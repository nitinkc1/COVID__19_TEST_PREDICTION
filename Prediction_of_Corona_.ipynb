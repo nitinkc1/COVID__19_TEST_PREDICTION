{
  "cells": [
    {
      "cell_type": "markdown",
      "metadata": {
        "id": "3545fc15"
      },
      "source": [
        "# What is Corona Virus(COVID-19) its cause and symptoms?\n",
        "\n",
        "COVID-19, short for \"Coronavirus Disease 2019,\" is an infectious disease caused by the novel coronavirus SARS-CoV-2. It was first identified in December 2019 in the city of Wuhan, Hubei province, China. The virus quickly spread globally, leading to a pandemic as declared by the World Health Organization (WHO) on March 11, 2020.\n",
        "\n",
        "**Causes**:\n",
        "SARS-CoV-2 is a member of the coronavirus family, which includes viruses that can cause illnesses ranging from the common cold to more severe respiratory diseases like Middle East Respiratory Syndrome (MERS) and Severe Acute Respiratory Syndrome (SARS). The exact origin of SARS-CoV-2 is still under investigation, but it is believed to have originated in bats and possibly passed through an intermediate animal host before infecting humans.\n",
        "\n",
        "**Symptoms**:\n",
        "COVID-19 symptoms can range from mild to severe and may appear 2-14 days after exposure to the virus.\n",
        "\n",
        "Common symptoms include:\n",
        "\n",
        "  Fever or chills,\n",
        "  Cough,\n",
        "  Shortness of breath or difficulty breathing,\n",
        "  Fatigue,\n",
        "  Muscle or body aches,\n",
        "  Headache,\n",
        "  Loss of taste or smell,\n",
        "  Sore throat,\n",
        "  Congestion or runny nose,\n",
        "  Nausea or vomiting,\n",
        "  Diarrhea.\n",
        "\n",
        "\n"
      ],
      "id": "3545fc15"
    },
    {
      "cell_type": "markdown",
      "metadata": {
        "id": "2fb743e7"
      },
      "source": [
        "## Introduction:\n"
      ],
      "id": "2fb743e7"
    },
    {
      "cell_type": "markdown",
      "metadata": {
        "id": "b4ZOBVwONCAY"
      },
      "source": [
        "**Introduction:**\n",
        "\n",
        "The COVID-19 pandemic, caused by the novel coronavirus, has prompted an urgent need for accurate prediction methods. Machine learning, a facet of artificial intelligence, offers a promising avenue to predict the course of the disease. By analyzing intricate data patterns, machine learning can assist in forecasting the spread of COVID-19, identifying potential outbreak areas, and aiding decision-making for effective interventions.\n",
        "\n",
        "**Objective:**\n",
        "\n",
        "This study aims to employ machine learning techniques to predict COVID-19 trends. By amalgamating diverse datasets encompassing epidemiological, clinical, and socio-economic factors, we intend to construct robust prediction models. The objective of this project is to develop a machine learning model that can predict diseases with high accuracy using medical data such as demographic information, lab test results, and lifestyle factors."
      ],
      "id": "b4ZOBVwONCAY"
    },
    {
      "cell_type": "markdown",
      "metadata": {
        "id": "96c6d997"
      },
      "source": [
        "### Data summary"
      ],
      "id": "96c6d997"
    },
    {
      "cell_type": "markdown",
      "metadata": {
        "id": "10a9b545"
      },
      "source": [
        "The current dataset has been downloaded from a government website and contains around 2,78,848 individuals who have gone through the RT-PCR test. Data set contains 11 columns, including 8 features suspected to play an important role in the prediction of COVID19 outcome. Outcome variable is covid result test positive or negative."
      ],
      "id": "10a9b545"
    },
    {
      "cell_type": "markdown",
      "metadata": {
        "id": "2b4d8823"
      },
      "source": [
        "#### Column descryption"
      ],
      "id": "2b4d8823"
    },
    {
      "cell_type": "markdown",
      "metadata": {
        "id": "1e21324f"
      },
      "source": [
        "This dataset has columns like:\n",
        "\n",
        "\n",
        "**A. Basic information:**\n",
        "\n",
        "1. ID (Individual ID)\n",
        "\n",
        "2. Sex (male/female).\n",
        "\n",
        "3. Age ≥60 above years (true/false)\n",
        "\n",
        "4. Test date (date when tested for COVID)\n",
        "\n",
        "\n",
        "**B. Symptoms:**\n",
        "\n",
        "5. Cough (true/false).\n",
        "\n",
        "6. Fever (true/false).\n",
        "\n",
        "7. Sore throat (true/false).\n",
        "\n",
        "8. Shortness of breath (true/false).\n",
        "\n",
        "9. Headache (true/false).\n",
        "\n",
        "\n",
        "**C. Other information:**\n",
        "\n",
        "10. Known contact with an individual confirmed to have COVID-19 (true/false).\n",
        "\n",
        "\n",
        "**D. Covid report:**\n",
        "\n",
        "11. Corona positive or negative\n"
      ],
      "id": "1e21324f"
    },
    {
      "cell_type": "code",
      "execution_count": 1,
      "metadata": {
        "id": "d8fbc3f5"
      },
      "outputs": [],
      "source": [
        "import pandas as pd\n",
        "import numpy as np\n",
        "import seaborn as sns\n",
        "import matplotlib.pyplot as plt\n",
        "import plotly.express as px\n",
        "import warnings\n",
        "warnings.filterwarnings('ignore')"
      ],
      "id": "d8fbc3f5"
    },
    {
      "cell_type": "code",
      "execution_count": 2,
      "metadata": {
        "colab": {
          "base_uri": "https://localhost:8080/",
          "height": 423
        },
        "id": "d64b8e29",
        "outputId": "15bf80ba-2739-4499-c0ba-1ee85066ee36"
      },
      "outputs": [
        {
          "output_type": "execute_result",
          "data": {
            "text/plain": [
              "        Ind_ID   Test_date Cough_symptoms  Fever Sore_throat  \\\n",
              "0            1  11-03-2020           TRUE  FALSE        TRUE   \n",
              "1            2  11-03-2020          FALSE   TRUE       FALSE   \n",
              "2            3  11-03-2020          FALSE   TRUE       FALSE   \n",
              "3            4  11-03-2020           TRUE  FALSE       FALSE   \n",
              "4            5  11-03-2020           TRUE  FALSE       FALSE   \n",
              "...        ...         ...            ...    ...         ...   \n",
              "278843  278844  30-04-2020          False  False       False   \n",
              "278844  278845  30-04-2020          False  False       False   \n",
              "278845  278846  30-04-2020          False  False       False   \n",
              "278846  278847  30-04-2020          False  False       False   \n",
              "278847  278848  30-04-2020          False  False       False   \n",
              "\n",
              "       Shortness_of_breath Headache    Corona Age_60_above     Sex  \\\n",
              "0                    FALSE    FALSE  negative         None    None   \n",
              "1                    FALSE    FALSE  positive         None    None   \n",
              "2                    FALSE    FALSE  positive         None    None   \n",
              "3                    FALSE    FALSE  negative         None    None   \n",
              "4                    FALSE    FALSE  negative         None    None   \n",
              "...                    ...      ...       ...          ...     ...   \n",
              "278843               False    False  positive         None    male   \n",
              "278844               False    False  negative         None  female   \n",
              "278845               False    False  negative         None    male   \n",
              "278846               False    False  negative         None    male   \n",
              "278847               False    False  negative         None  female   \n",
              "\n",
              "                 Known_contact  \n",
              "0                       Abroad  \n",
              "1                       Abroad  \n",
              "2                       Abroad  \n",
              "3                       Abroad  \n",
              "4       Contact with confirmed  \n",
              "...                        ...  \n",
              "278843                   Other  \n",
              "278844                   Other  \n",
              "278845                   Other  \n",
              "278846                   Other  \n",
              "278847                   Other  \n",
              "\n",
              "[278848 rows x 11 columns]"
            ],
            "text/html": [
              "\n",
              "  <div id=\"df-45e4db15-81d5-467a-8242-513e998c53ba\" class=\"colab-df-container\">\n",
              "    <div>\n",
              "<style scoped>\n",
              "    .dataframe tbody tr th:only-of-type {\n",
              "        vertical-align: middle;\n",
              "    }\n",
              "\n",
              "    .dataframe tbody tr th {\n",
              "        vertical-align: top;\n",
              "    }\n",
              "\n",
              "    .dataframe thead th {\n",
              "        text-align: right;\n",
              "    }\n",
              "</style>\n",
              "<table border=\"1\" class=\"dataframe\">\n",
              "  <thead>\n",
              "    <tr style=\"text-align: right;\">\n",
              "      <th></th>\n",
              "      <th>Ind_ID</th>\n",
              "      <th>Test_date</th>\n",
              "      <th>Cough_symptoms</th>\n",
              "      <th>Fever</th>\n",
              "      <th>Sore_throat</th>\n",
              "      <th>Shortness_of_breath</th>\n",
              "      <th>Headache</th>\n",
              "      <th>Corona</th>\n",
              "      <th>Age_60_above</th>\n",
              "      <th>Sex</th>\n",
              "      <th>Known_contact</th>\n",
              "    </tr>\n",
              "  </thead>\n",
              "  <tbody>\n",
              "    <tr>\n",
              "      <th>0</th>\n",
              "      <td>1</td>\n",
              "      <td>11-03-2020</td>\n",
              "      <td>TRUE</td>\n",
              "      <td>FALSE</td>\n",
              "      <td>TRUE</td>\n",
              "      <td>FALSE</td>\n",
              "      <td>FALSE</td>\n",
              "      <td>negative</td>\n",
              "      <td>None</td>\n",
              "      <td>None</td>\n",
              "      <td>Abroad</td>\n",
              "    </tr>\n",
              "    <tr>\n",
              "      <th>1</th>\n",
              "      <td>2</td>\n",
              "      <td>11-03-2020</td>\n",
              "      <td>FALSE</td>\n",
              "      <td>TRUE</td>\n",
              "      <td>FALSE</td>\n",
              "      <td>FALSE</td>\n",
              "      <td>FALSE</td>\n",
              "      <td>positive</td>\n",
              "      <td>None</td>\n",
              "      <td>None</td>\n",
              "      <td>Abroad</td>\n",
              "    </tr>\n",
              "    <tr>\n",
              "      <th>2</th>\n",
              "      <td>3</td>\n",
              "      <td>11-03-2020</td>\n",
              "      <td>FALSE</td>\n",
              "      <td>TRUE</td>\n",
              "      <td>FALSE</td>\n",
              "      <td>FALSE</td>\n",
              "      <td>FALSE</td>\n",
              "      <td>positive</td>\n",
              "      <td>None</td>\n",
              "      <td>None</td>\n",
              "      <td>Abroad</td>\n",
              "    </tr>\n",
              "    <tr>\n",
              "      <th>3</th>\n",
              "      <td>4</td>\n",
              "      <td>11-03-2020</td>\n",
              "      <td>TRUE</td>\n",
              "      <td>FALSE</td>\n",
              "      <td>FALSE</td>\n",
              "      <td>FALSE</td>\n",
              "      <td>FALSE</td>\n",
              "      <td>negative</td>\n",
              "      <td>None</td>\n",
              "      <td>None</td>\n",
              "      <td>Abroad</td>\n",
              "    </tr>\n",
              "    <tr>\n",
              "      <th>4</th>\n",
              "      <td>5</td>\n",
              "      <td>11-03-2020</td>\n",
              "      <td>TRUE</td>\n",
              "      <td>FALSE</td>\n",
              "      <td>FALSE</td>\n",
              "      <td>FALSE</td>\n",
              "      <td>FALSE</td>\n",
              "      <td>negative</td>\n",
              "      <td>None</td>\n",
              "      <td>None</td>\n",
              "      <td>Contact with confirmed</td>\n",
              "    </tr>\n",
              "    <tr>\n",
              "      <th>...</th>\n",
              "      <td>...</td>\n",
              "      <td>...</td>\n",
              "      <td>...</td>\n",
              "      <td>...</td>\n",
              "      <td>...</td>\n",
              "      <td>...</td>\n",
              "      <td>...</td>\n",
              "      <td>...</td>\n",
              "      <td>...</td>\n",
              "      <td>...</td>\n",
              "      <td>...</td>\n",
              "    </tr>\n",
              "    <tr>\n",
              "      <th>278843</th>\n",
              "      <td>278844</td>\n",
              "      <td>30-04-2020</td>\n",
              "      <td>False</td>\n",
              "      <td>False</td>\n",
              "      <td>False</td>\n",
              "      <td>False</td>\n",
              "      <td>False</td>\n",
              "      <td>positive</td>\n",
              "      <td>None</td>\n",
              "      <td>male</td>\n",
              "      <td>Other</td>\n",
              "    </tr>\n",
              "    <tr>\n",
              "      <th>278844</th>\n",
              "      <td>278845</td>\n",
              "      <td>30-04-2020</td>\n",
              "      <td>False</td>\n",
              "      <td>False</td>\n",
              "      <td>False</td>\n",
              "      <td>False</td>\n",
              "      <td>False</td>\n",
              "      <td>negative</td>\n",
              "      <td>None</td>\n",
              "      <td>female</td>\n",
              "      <td>Other</td>\n",
              "    </tr>\n",
              "    <tr>\n",
              "      <th>278845</th>\n",
              "      <td>278846</td>\n",
              "      <td>30-04-2020</td>\n",
              "      <td>False</td>\n",
              "      <td>False</td>\n",
              "      <td>False</td>\n",
              "      <td>False</td>\n",
              "      <td>False</td>\n",
              "      <td>negative</td>\n",
              "      <td>None</td>\n",
              "      <td>male</td>\n",
              "      <td>Other</td>\n",
              "    </tr>\n",
              "    <tr>\n",
              "      <th>278846</th>\n",
              "      <td>278847</td>\n",
              "      <td>30-04-2020</td>\n",
              "      <td>False</td>\n",
              "      <td>False</td>\n",
              "      <td>False</td>\n",
              "      <td>False</td>\n",
              "      <td>False</td>\n",
              "      <td>negative</td>\n",
              "      <td>None</td>\n",
              "      <td>male</td>\n",
              "      <td>Other</td>\n",
              "    </tr>\n",
              "    <tr>\n",
              "      <th>278847</th>\n",
              "      <td>278848</td>\n",
              "      <td>30-04-2020</td>\n",
              "      <td>False</td>\n",
              "      <td>False</td>\n",
              "      <td>False</td>\n",
              "      <td>False</td>\n",
              "      <td>False</td>\n",
              "      <td>negative</td>\n",
              "      <td>None</td>\n",
              "      <td>female</td>\n",
              "      <td>Other</td>\n",
              "    </tr>\n",
              "  </tbody>\n",
              "</table>\n",
              "<p>278848 rows × 11 columns</p>\n",
              "</div>\n",
              "    <div class=\"colab-df-buttons\">\n",
              "\n",
              "  <div class=\"colab-df-container\">\n",
              "    <button class=\"colab-df-convert\" onclick=\"convertToInteractive('df-45e4db15-81d5-467a-8242-513e998c53ba')\"\n",
              "            title=\"Convert this dataframe to an interactive table.\"\n",
              "            style=\"display:none;\">\n",
              "\n",
              "  <svg xmlns=\"http://www.w3.org/2000/svg\" height=\"24px\" viewBox=\"0 -960 960 960\">\n",
              "    <path d=\"M120-120v-720h720v720H120Zm60-500h600v-160H180v160Zm220 220h160v-160H400v160Zm0 220h160v-160H400v160ZM180-400h160v-160H180v160Zm440 0h160v-160H620v160ZM180-180h160v-160H180v160Zm440 0h160v-160H620v160Z\"/>\n",
              "  </svg>\n",
              "    </button>\n",
              "\n",
              "  <style>\n",
              "    .colab-df-container {\n",
              "      display:flex;\n",
              "      gap: 12px;\n",
              "    }\n",
              "\n",
              "    .colab-df-convert {\n",
              "      background-color: #E8F0FE;\n",
              "      border: none;\n",
              "      border-radius: 50%;\n",
              "      cursor: pointer;\n",
              "      display: none;\n",
              "      fill: #1967D2;\n",
              "      height: 32px;\n",
              "      padding: 0 0 0 0;\n",
              "      width: 32px;\n",
              "    }\n",
              "\n",
              "    .colab-df-convert:hover {\n",
              "      background-color: #E2EBFA;\n",
              "      box-shadow: 0px 1px 2px rgba(60, 64, 67, 0.3), 0px 1px 3px 1px rgba(60, 64, 67, 0.15);\n",
              "      fill: #174EA6;\n",
              "    }\n",
              "\n",
              "    .colab-df-buttons div {\n",
              "      margin-bottom: 4px;\n",
              "    }\n",
              "\n",
              "    [theme=dark] .colab-df-convert {\n",
              "      background-color: #3B4455;\n",
              "      fill: #D2E3FC;\n",
              "    }\n",
              "\n",
              "    [theme=dark] .colab-df-convert:hover {\n",
              "      background-color: #434B5C;\n",
              "      box-shadow: 0px 1px 3px 1px rgba(0, 0, 0, 0.15);\n",
              "      filter: drop-shadow(0px 1px 2px rgba(0, 0, 0, 0.3));\n",
              "      fill: #FFFFFF;\n",
              "    }\n",
              "  </style>\n",
              "\n",
              "    <script>\n",
              "      const buttonEl =\n",
              "        document.querySelector('#df-45e4db15-81d5-467a-8242-513e998c53ba button.colab-df-convert');\n",
              "      buttonEl.style.display =\n",
              "        google.colab.kernel.accessAllowed ? 'block' : 'none';\n",
              "\n",
              "      async function convertToInteractive(key) {\n",
              "        const element = document.querySelector('#df-45e4db15-81d5-467a-8242-513e998c53ba');\n",
              "        const dataTable =\n",
              "          await google.colab.kernel.invokeFunction('convertToInteractive',\n",
              "                                                    [key], {});\n",
              "        if (!dataTable) return;\n",
              "\n",
              "        const docLinkHtml = 'Like what you see? Visit the ' +\n",
              "          '<a target=\"_blank\" href=https://colab.research.google.com/notebooks/data_table.ipynb>data table notebook</a>'\n",
              "          + ' to learn more about interactive tables.';\n",
              "        element.innerHTML = '';\n",
              "        dataTable['output_type'] = 'display_data';\n",
              "        await google.colab.output.renderOutput(dataTable, element);\n",
              "        const docLink = document.createElement('div');\n",
              "        docLink.innerHTML = docLinkHtml;\n",
              "        element.appendChild(docLink);\n",
              "      }\n",
              "    </script>\n",
              "  </div>\n",
              "\n",
              "\n",
              "<div id=\"df-390f4e57-017c-42b7-8046-8f2cfd51e7b5\">\n",
              "  <button class=\"colab-df-quickchart\" onclick=\"quickchart('df-390f4e57-017c-42b7-8046-8f2cfd51e7b5')\"\n",
              "            title=\"Suggest charts.\"\n",
              "            style=\"display:none;\">\n",
              "\n",
              "<svg xmlns=\"http://www.w3.org/2000/svg\" height=\"24px\"viewBox=\"0 0 24 24\"\n",
              "     width=\"24px\">\n",
              "    <g>\n",
              "        <path d=\"M19 3H5c-1.1 0-2 .9-2 2v14c0 1.1.9 2 2 2h14c1.1 0 2-.9 2-2V5c0-1.1-.9-2-2-2zM9 17H7v-7h2v7zm4 0h-2V7h2v10zm4 0h-2v-4h2v4z\"/>\n",
              "    </g>\n",
              "</svg>\n",
              "  </button>\n",
              "\n",
              "<style>\n",
              "  .colab-df-quickchart {\n",
              "    background-color: #E8F0FE;\n",
              "    border: none;\n",
              "    border-radius: 50%;\n",
              "    cursor: pointer;\n",
              "    display: none;\n",
              "    fill: #1967D2;\n",
              "    height: 32px;\n",
              "    padding: 0 0 0 0;\n",
              "    width: 32px;\n",
              "  }\n",
              "\n",
              "  .colab-df-quickchart:hover {\n",
              "    background-color: #E2EBFA;\n",
              "    box-shadow: 0px 1px 2px rgba(60, 64, 67, 0.3), 0px 1px 3px 1px rgba(60, 64, 67, 0.15);\n",
              "    fill: #174EA6;\n",
              "  }\n",
              "\n",
              "  [theme=dark] .colab-df-quickchart {\n",
              "    background-color: #3B4455;\n",
              "    fill: #D2E3FC;\n",
              "  }\n",
              "\n",
              "  [theme=dark] .colab-df-quickchart:hover {\n",
              "    background-color: #434B5C;\n",
              "    box-shadow: 0px 1px 3px 1px rgba(0, 0, 0, 0.15);\n",
              "    filter: drop-shadow(0px 1px 2px rgba(0, 0, 0, 0.3));\n",
              "    fill: #FFFFFF;\n",
              "  }\n",
              "</style>\n",
              "\n",
              "  <script>\n",
              "    async function quickchart(key) {\n",
              "      const charts = await google.colab.kernel.invokeFunction(\n",
              "          'suggestCharts', [key], {});\n",
              "    }\n",
              "    (() => {\n",
              "      let quickchartButtonEl =\n",
              "        document.querySelector('#df-390f4e57-017c-42b7-8046-8f2cfd51e7b5 button');\n",
              "      quickchartButtonEl.style.display =\n",
              "        google.colab.kernel.accessAllowed ? 'block' : 'none';\n",
              "    })();\n",
              "  </script>\n",
              "</div>\n",
              "    </div>\n",
              "  </div>\n"
            ]
          },
          "metadata": {},
          "execution_count": 2
        }
      ],
      "source": [
        "Covid_test = pd.read_csv('corona_tested_006.csv')\n",
        "Covid_test"
      ],
      "id": "d64b8e29"
    },
    {
      "cell_type": "markdown",
      "metadata": {
        "id": "cd97ee54"
      },
      "source": [
        "### Issues With the Data"
      ],
      "id": "cd97ee54"
    },
    {
      "cell_type": "markdown",
      "metadata": {
        "id": "ff1bd224"
      },
      "source": [
        "In the given data, there are several issues that need to be addressed before it can be used for analysis and modeling:\n",
        "\n",
        "-Data Consistency: The data for different symptoms (Cough_symptoms, Fever, Sore_throat, Shortness_of_breath, Headache, Age_60_above) are recorded in different ways. This needs to be standardized to ensure consistency in the data.\n",
        "\n",
        " - Missing Values: There are missing values in some columns represented as NAN. This needs to be handled to ensure that the data     is complete and ready for analysis.\n",
        "\n",
        " - Imbalanced Dataset: The outcome data is imbalanced, with more data points for one class than the other. This can result in      biased predictions and needs to be addressed by either oversampling the minority class or undersampling the majority class.\n",
        "\n",
        " - Categorical Data: Some of the data is categorical, which needs to be encoded for use in machine learning algorithms.\n",
        "\n",
        "These issues will need to be addressed before the data can be used for analysis and modeling."
      ],
      "id": "ff1bd224"
    },
    {
      "cell_type": "markdown",
      "metadata": {
        "id": "65f59630"
      },
      "source": [
        "#### Basic Exploration"
      ],
      "id": "65f59630"
    },
    {
      "cell_type": "code",
      "execution_count": 3,
      "metadata": {
        "colab": {
          "base_uri": "https://localhost:8080/"
        },
        "id": "ef7b8b13",
        "outputId": "e03aa024-396e-401a-e2a6-f6e99b4851ea"
      },
      "outputs": [
        {
          "output_type": "execute_result",
          "data": {
            "text/plain": [
              "(278848, 11)"
            ]
          },
          "metadata": {},
          "execution_count": 3
        }
      ],
      "source": [
        "Covid_test.shape"
      ],
      "id": "ef7b8b13"
    },
    {
      "cell_type": "code",
      "execution_count": 4,
      "metadata": {
        "colab": {
          "base_uri": "https://localhost:8080/"
        },
        "id": "266e0e32",
        "outputId": "201ceb63-f1c9-4d73-b3c8-77a220de4039"
      },
      "outputs": [
        {
          "output_type": "stream",
          "name": "stdout",
          "text": [
            "<class 'pandas.core.frame.DataFrame'>\n",
            "RangeIndex: 278848 entries, 0 to 278847\n",
            "Data columns (total 11 columns):\n",
            " #   Column               Non-Null Count   Dtype \n",
            "---  ------               --------------   ----- \n",
            " 0   Ind_ID               278848 non-null  int64 \n",
            " 1   Test_date            278848 non-null  object\n",
            " 2   Cough_symptoms       278848 non-null  object\n",
            " 3   Fever                278848 non-null  object\n",
            " 4   Sore_throat          278848 non-null  object\n",
            " 5   Shortness_of_breath  278848 non-null  object\n",
            " 6   Headache             278848 non-null  object\n",
            " 7   Corona               278848 non-null  object\n",
            " 8   Age_60_above         278848 non-null  object\n",
            " 9   Sex                  278848 non-null  object\n",
            " 10  Known_contact        278848 non-null  object\n",
            "dtypes: int64(1), object(10)\n",
            "memory usage: 23.4+ MB\n"
          ]
        }
      ],
      "source": [
        "Covid_test.info()"
      ],
      "id": "266e0e32"
    },
    {
      "cell_type": "code",
      "execution_count": 5,
      "metadata": {
        "colab": {
          "base_uri": "https://localhost:8080/"
        },
        "id": "19a03fc4",
        "outputId": "8e65fb58-be04-4f22-9bb7-2300f6591a16"
      },
      "outputs": [
        {
          "output_type": "execute_result",
          "data": {
            "text/plain": [
              "Index(['Ind_ID', 'Test_date', 'Cough_symptoms', 'Fever', 'Sore_throat',\n",
              "       'Shortness_of_breath', 'Headache', 'Corona', 'Age_60_above', 'Sex',\n",
              "       'Known_contact'],\n",
              "      dtype='object')"
            ]
          },
          "metadata": {},
          "execution_count": 5
        }
      ],
      "source": [
        "# column names\n",
        "Covid_test.columns"
      ],
      "id": "19a03fc4"
    },
    {
      "cell_type": "code",
      "execution_count": 6,
      "metadata": {
        "colab": {
          "base_uri": "https://localhost:8080/"
        },
        "id": "f158c0f0",
        "outputId": "1fa20d4c-ae97-4e36-dfcb-92b453f40b30"
      },
      "outputs": [
        {
          "output_type": "execute_result",
          "data": {
            "text/plain": [
              "0"
            ]
          },
          "metadata": {},
          "execution_count": 6
        }
      ],
      "source": [
        "#checking for duplicates\n",
        "Covid_test.duplicated().sum()"
      ],
      "id": "f158c0f0"
    },
    {
      "cell_type": "markdown",
      "metadata": {
        "id": "ZprjOZ6MomXh"
      },
      "source": [
        "# Let's Find out distinct number of Corona symptoms"
      ],
      "id": "ZprjOZ6MomXh"
    },
    {
      "cell_type": "code",
      "execution_count": 7,
      "metadata": {
        "colab": {
          "base_uri": "https://localhost:8080/"
        },
        "id": "26c360ae",
        "outputId": "44c1ff0a-a58b-4212-dd06-21bb9fff3cb5"
      },
      "outputs": [
        {
          "output_type": "stream",
          "name": "stdout",
          "text": [
            "Distinct Number of Cough symptoms ['TRUE' 'FALSE' 'None' False True]\n",
            "Distinct Number of Fever symptoms ['FALSE' 'TRUE' 'None' False True]\n",
            "Distinct Number of Sore_throat symptoms ['TRUE' 'FALSE' 'None' False True]\n",
            "Distinct Number of Shortness_of_breath symptoms ['FALSE' 'TRUE' 'None' False True]\n",
            "Distinct Number of Headache symptoms ['FALSE' 'TRUE' 'None' False True]\n",
            "Distinct Number of Corona symptoms ['negative' 'positive' 'other']\n",
            "Distinct Number of Age_60_above symptoms ['None' 'No' 'Yes']\n",
            "Distinct Number of Sex symptoms ['None' 'male' 'female']\n",
            "Distinct Number of Known_contact symptoms ['Abroad' 'Contact with confirmed' 'Other']\n"
          ]
        }
      ],
      "source": [
        "# let's findout the Distinct number of Corona symptoms present in dataset\n",
        "\n",
        "print('Distinct Number of Cough symptoms',Covid_test['Cough_symptoms'].unique())\n",
        "print('Distinct Number of Fever symptoms',Covid_test['Fever'].unique())\n",
        "print('Distinct Number of Sore_throat symptoms',Covid_test['Sore_throat'].unique())\n",
        "print('Distinct Number of Shortness_of_breath symptoms',Covid_test['Shortness_of_breath'].unique())\n",
        "print('Distinct Number of Headache symptoms',Covid_test['Headache'].unique())\n",
        "print('Distinct Number of Corona symptoms',Covid_test['Corona'].unique())\n",
        "print('Distinct Number of Age_60_above symptoms',Covid_test['Age_60_above'].unique())\n",
        "print('Distinct Number of Sex symptoms',Covid_test['Sex'].unique())\n",
        "print('Distinct Number of Known_contact symptoms',Covid_test['Known_contact'].unique())"
      ],
      "id": "26c360ae"
    },
    {
      "cell_type": "markdown",
      "metadata": {
        "id": "53b3c165"
      },
      "source": [
        "The challenge with this dataset is that the observations are quite messy and there are some missing values present. In order to clean the dataset, I need to change the \"None\" values to NaN and clarify the \"false\" and \"False\" values as Python treats them differently."
      ],
      "id": "53b3c165"
    },
    {
      "cell_type": "code",
      "execution_count": 8,
      "metadata": {
        "id": "XLhh7-FxRB_V"
      },
      "outputs": [],
      "source": [
        "# Now let's clean our data set\n",
        "\n",
        "Covid_test['Cough_symptoms'] = Covid_test['Cough_symptoms'].replace({'None': None, 'TRUE': True, 'FALSE': False})\n",
        "Covid_test['Fever'] = Covid_test['Fever'].replace({'None': None, 'TRUE': True, 'FALSE': False})\n",
        "Covid_test['Sore_throat'] = Covid_test['Sore_throat'].replace({'None': None, 'TRUE': True, 'FALSE': False})\n",
        "Covid_test['Shortness_of_breath'] = Covid_test['Shortness_of_breath'].replace({'None': None, 'TRUE': True, 'FALSE': False})\n",
        "Covid_test['Headache'] = Covid_test['Headache'].replace({'None': None, 'TRUE': True, 'FALSE': False})\n",
        "Covid_test['Age_60_above'] = Covid_test['Age_60_above'].replace({'None': None})\n",
        "Covid_test['Sex'] = Covid_test['Sex'].replace({'None': None})"
      ],
      "id": "XLhh7-FxRB_V"
    },
    {
      "cell_type": "code",
      "execution_count": 9,
      "metadata": {
        "colab": {
          "base_uri": "https://localhost:8080/"
        },
        "id": "fDv87t1OQhZt",
        "outputId": "b57683c6-0d20-4cd6-faa9-f88df458a6d0"
      },
      "outputs": [
        {
          "output_type": "execute_result",
          "data": {
            "text/plain": [
              "Ind_ID                 278848\n",
              "Test_date                  51\n",
              "Cough_symptoms              2\n",
              "Fever                       2\n",
              "Sore_throat                 2\n",
              "Shortness_of_breath         2\n",
              "Headache                    2\n",
              "Corona                      3\n",
              "Age_60_above                2\n",
              "Sex                         2\n",
              "Known_contact               3\n",
              "dtype: int64"
            ]
          },
          "metadata": {},
          "execution_count": 9
        }
      ],
      "source": [
        "# Now the dataset are clean\n",
        "Covid_test.nunique()"
      ],
      "id": "fDv87t1OQhZt"
    },
    {
      "cell_type": "markdown",
      "metadata": {
        "id": "rJfhsLcJWHp5"
      },
      "source": [
        " ## Now to calculate Missing Value and also it's  Percentage"
      ],
      "id": "rJfhsLcJWHp5"
    },
    {
      "cell_type": "code",
      "execution_count": 10,
      "metadata": {
        "colab": {
          "base_uri": "https://localhost:8080/"
        },
        "id": "f3f8988f",
        "outputId": "d2c18a74-5539-4cf3-d205-e29bfc3acca1"
      },
      "outputs": [
        {
          "output_type": "execute_result",
          "data": {
            "text/plain": [
              "Age_60_above           127320\n",
              "Sex                     19563\n",
              "Cough_symptoms            252\n",
              "Fever                     252\n",
              "Sore_throat                 1\n",
              "Shortness_of_breath         1\n",
              "Headache                    1\n",
              "Ind_ID                      0\n",
              "Test_date                   0\n",
              "Corona                      0\n",
              "Known_contact               0\n",
              "dtype: int64"
            ]
          },
          "metadata": {},
          "execution_count": 10
        }
      ],
      "source": [
        "#Checking for missing values\n",
        "Covid_test.isnull().sum().sort_values(ascending=False)"
      ],
      "id": "f3f8988f"
    },
    {
      "cell_type": "code",
      "execution_count": 11,
      "metadata": {
        "colab": {
          "base_uri": "https://localhost:8080/"
        },
        "id": "s-QQBKawT80u",
        "outputId": "46b8498a-8b69-402c-b5bf-8775e0bed853"
      },
      "outputs": [
        {
          "output_type": "execute_result",
          "data": {
            "text/plain": [
              "Age_60_above           45.659284\n",
              "Sex                     7.015650\n",
              "Cough_symptoms          0.090372\n",
              "Fever                   0.090372\n",
              "Sore_throat             0.000359\n",
              "Shortness_of_breath     0.000359\n",
              "Headache                0.000359\n",
              "Ind_ID                  0.000000\n",
              "Test_date               0.000000\n",
              "Corona                  0.000000\n",
              "Known_contact           0.000000\n",
              "dtype: float64"
            ]
          },
          "metadata": {},
          "execution_count": 11
        }
      ],
      "source": [
        "#Checking for missing values in terms of percentage in descending order\n",
        "\n",
        "missing_percentage = (Covid_test.isnull().sum() / len(Covid_test)) * 100\n",
        "missing_percentage_sorted = missing_percentage.sort_values(ascending=False)\n",
        "missing_percentage_sorted"
      ],
      "id": "s-QQBKawT80u"
    },
    {
      "cell_type": "markdown",
      "metadata": {
        "id": "JZ5ecdDKfLNN"
      },
      "source": [
        "# IMPUTATION"
      ],
      "id": "JZ5ecdDKfLNN"
    },
    {
      "cell_type": "code",
      "execution_count": 12,
      "metadata": {
        "id": "DnjfVrmGU9WW"
      },
      "outputs": [],
      "source": [
        "# Since from the table covid_test in that the column Age_60_above has highest missing value of greater than 45 percentage so its better to drop that column\n",
        "Covid_test.drop('Age_60_above', axis=1, inplace=True)"
      ],
      "id": "DnjfVrmGU9WW"
    },
    {
      "cell_type": "code",
      "execution_count": 13,
      "metadata": {
        "id": "4NWRjiNRfKJl"
      },
      "outputs": [],
      "source": [
        "# since the columns that are having missing value are categoircal column so the best method is to go for Mode Imputation\n",
        "columns_to_impute = ['Cough_symptoms', 'Fever', 'Sore_throat', 'Shortness_of_breath', 'Headache', 'Sex']\n",
        "\n",
        "for column in columns_to_impute:\n",
        "    Covid_test[column] = Covid_test[column].fillna(Covid_test[column].mode()[0])"
      ],
      "id": "4NWRjiNRfKJl"
    },
    {
      "cell_type": "code",
      "execution_count": 14,
      "metadata": {
        "colab": {
          "base_uri": "https://localhost:8080/"
        },
        "id": "cWpxv3_mhqtR",
        "outputId": "3c312059-eeda-46fd-85c1-40b1411b0abd"
      },
      "outputs": [
        {
          "output_type": "execute_result",
          "data": {
            "text/plain": [
              "Ind_ID                 0\n",
              "Test_date              0\n",
              "Cough_symptoms         0\n",
              "Fever                  0\n",
              "Sore_throat            0\n",
              "Shortness_of_breath    0\n",
              "Headache               0\n",
              "Corona                 0\n",
              "Sex                    0\n",
              "Known_contact          0\n",
              "dtype: int64"
            ]
          },
          "metadata": {},
          "execution_count": 14
        }
      ],
      "source": [
        "Covid_test.isnull().sum()"
      ],
      "id": "cWpxv3_mhqtR"
    },
    {
      "cell_type": "markdown",
      "metadata": {
        "id": "Jrj0lmo-zBuA"
      },
      "source": [
        "# Exploratory Data Analysis"
      ],
      "id": "Jrj0lmo-zBuA"
    },
    {
      "cell_type": "code",
      "execution_count": null,
      "metadata": {
        "colab": {
          "base_uri": "https://localhost:8080/"
        },
        "id": "oW97j7MNyFKR",
        "outputId": "c9550124-fa77-4dcb-d875-2ecd87a20be0"
      },
      "outputs": [
        {
          "data": {
            "text/plain": [
              "negative    260227\n",
              "positive     14729\n",
              "other         3892\n",
              "Name: Corona, dtype: int64"
            ]
          },
          "execution_count": 100,
          "metadata": {},
          "output_type": "execute_result"
        }
      ],
      "source": [
        "Covid_test['Corona'].value_counts()\n"
      ],
      "id": "oW97j7MNyFKR"
    },
    {
      "cell_type": "markdown",
      "metadata": {
        "id": "3GHrR4yqyFrw"
      },
      "source": [
        "Insights:\n",
        "\n",
        "We have three values in our Outcome Variable column and they are \"negative\", \"positive\" and \"other\"\n",
        "\n",
        "As per our business requirement , we need to build a model which can predict whether a person is covid positive or negative.\n",
        "\n",
        "As the values with \"other\" is less than 1% of total records and we don't need to train our model for \"other\" value\n",
        "\n",
        "We can drop it."
      ],
      "id": "3GHrR4yqyFrw"
    },
    {
      "cell_type": "code",
      "execution_count": 19,
      "metadata": {
        "colab": {
          "base_uri": "https://localhost:8080/",
          "height": 423
        },
        "id": "GJb-DcDLyayL",
        "outputId": "8c913765-e2bd-494a-8b4a-90b4350f22ce"
      },
      "outputs": [
        {
          "output_type": "execute_result",
          "data": {
            "text/plain": [
              "        Ind_ID   Test_date  Cough_symptoms  Fever  Sore_throat  \\\n",
              "0            1  11-03-2020            True  False         True   \n",
              "1            2  11-03-2020           False   True        False   \n",
              "2            3  11-03-2020           False   True        False   \n",
              "3            4  11-03-2020            True  False        False   \n",
              "4            5  11-03-2020            True  False        False   \n",
              "...        ...         ...             ...    ...          ...   \n",
              "278843  278844  30-04-2020           False  False        False   \n",
              "278844  278845  30-04-2020           False  False        False   \n",
              "278845  278846  30-04-2020           False  False        False   \n",
              "278846  278847  30-04-2020           False  False        False   \n",
              "278847  278848  30-04-2020           False  False        False   \n",
              "\n",
              "        Shortness_of_breath  Headache    Corona     Sex  \\\n",
              "0                     False     False  negative  female   \n",
              "1                     False     False  positive  female   \n",
              "2                     False     False  positive  female   \n",
              "3                     False     False  negative  female   \n",
              "4                     False     False  negative  female   \n",
              "...                     ...       ...       ...     ...   \n",
              "278843                False     False  positive    male   \n",
              "278844                False     False  negative  female   \n",
              "278845                False     False  negative    male   \n",
              "278846                False     False  negative    male   \n",
              "278847                False     False  negative  female   \n",
              "\n",
              "                 Known_contact  \n",
              "0                       Abroad  \n",
              "1                       Abroad  \n",
              "2                       Abroad  \n",
              "3                       Abroad  \n",
              "4       Contact with confirmed  \n",
              "...                        ...  \n",
              "278843                   Other  \n",
              "278844                   Other  \n",
              "278845                   Other  \n",
              "278846                   Other  \n",
              "278847                   Other  \n",
              "\n",
              "[274956 rows x 10 columns]"
            ],
            "text/html": [
              "\n",
              "  <div id=\"df-2f904e0b-25fb-44a2-ae22-928d6c129286\" class=\"colab-df-container\">\n",
              "    <div>\n",
              "<style scoped>\n",
              "    .dataframe tbody tr th:only-of-type {\n",
              "        vertical-align: middle;\n",
              "    }\n",
              "\n",
              "    .dataframe tbody tr th {\n",
              "        vertical-align: top;\n",
              "    }\n",
              "\n",
              "    .dataframe thead th {\n",
              "        text-align: right;\n",
              "    }\n",
              "</style>\n",
              "<table border=\"1\" class=\"dataframe\">\n",
              "  <thead>\n",
              "    <tr style=\"text-align: right;\">\n",
              "      <th></th>\n",
              "      <th>Ind_ID</th>\n",
              "      <th>Test_date</th>\n",
              "      <th>Cough_symptoms</th>\n",
              "      <th>Fever</th>\n",
              "      <th>Sore_throat</th>\n",
              "      <th>Shortness_of_breath</th>\n",
              "      <th>Headache</th>\n",
              "      <th>Corona</th>\n",
              "      <th>Sex</th>\n",
              "      <th>Known_contact</th>\n",
              "    </tr>\n",
              "  </thead>\n",
              "  <tbody>\n",
              "    <tr>\n",
              "      <th>0</th>\n",
              "      <td>1</td>\n",
              "      <td>11-03-2020</td>\n",
              "      <td>True</td>\n",
              "      <td>False</td>\n",
              "      <td>True</td>\n",
              "      <td>False</td>\n",
              "      <td>False</td>\n",
              "      <td>negative</td>\n",
              "      <td>female</td>\n",
              "      <td>Abroad</td>\n",
              "    </tr>\n",
              "    <tr>\n",
              "      <th>1</th>\n",
              "      <td>2</td>\n",
              "      <td>11-03-2020</td>\n",
              "      <td>False</td>\n",
              "      <td>True</td>\n",
              "      <td>False</td>\n",
              "      <td>False</td>\n",
              "      <td>False</td>\n",
              "      <td>positive</td>\n",
              "      <td>female</td>\n",
              "      <td>Abroad</td>\n",
              "    </tr>\n",
              "    <tr>\n",
              "      <th>2</th>\n",
              "      <td>3</td>\n",
              "      <td>11-03-2020</td>\n",
              "      <td>False</td>\n",
              "      <td>True</td>\n",
              "      <td>False</td>\n",
              "      <td>False</td>\n",
              "      <td>False</td>\n",
              "      <td>positive</td>\n",
              "      <td>female</td>\n",
              "      <td>Abroad</td>\n",
              "    </tr>\n",
              "    <tr>\n",
              "      <th>3</th>\n",
              "      <td>4</td>\n",
              "      <td>11-03-2020</td>\n",
              "      <td>True</td>\n",
              "      <td>False</td>\n",
              "      <td>False</td>\n",
              "      <td>False</td>\n",
              "      <td>False</td>\n",
              "      <td>negative</td>\n",
              "      <td>female</td>\n",
              "      <td>Abroad</td>\n",
              "    </tr>\n",
              "    <tr>\n",
              "      <th>4</th>\n",
              "      <td>5</td>\n",
              "      <td>11-03-2020</td>\n",
              "      <td>True</td>\n",
              "      <td>False</td>\n",
              "      <td>False</td>\n",
              "      <td>False</td>\n",
              "      <td>False</td>\n",
              "      <td>negative</td>\n",
              "      <td>female</td>\n",
              "      <td>Contact with confirmed</td>\n",
              "    </tr>\n",
              "    <tr>\n",
              "      <th>...</th>\n",
              "      <td>...</td>\n",
              "      <td>...</td>\n",
              "      <td>...</td>\n",
              "      <td>...</td>\n",
              "      <td>...</td>\n",
              "      <td>...</td>\n",
              "      <td>...</td>\n",
              "      <td>...</td>\n",
              "      <td>...</td>\n",
              "      <td>...</td>\n",
              "    </tr>\n",
              "    <tr>\n",
              "      <th>278843</th>\n",
              "      <td>278844</td>\n",
              "      <td>30-04-2020</td>\n",
              "      <td>False</td>\n",
              "      <td>False</td>\n",
              "      <td>False</td>\n",
              "      <td>False</td>\n",
              "      <td>False</td>\n",
              "      <td>positive</td>\n",
              "      <td>male</td>\n",
              "      <td>Other</td>\n",
              "    </tr>\n",
              "    <tr>\n",
              "      <th>278844</th>\n",
              "      <td>278845</td>\n",
              "      <td>30-04-2020</td>\n",
              "      <td>False</td>\n",
              "      <td>False</td>\n",
              "      <td>False</td>\n",
              "      <td>False</td>\n",
              "      <td>False</td>\n",
              "      <td>negative</td>\n",
              "      <td>female</td>\n",
              "      <td>Other</td>\n",
              "    </tr>\n",
              "    <tr>\n",
              "      <th>278845</th>\n",
              "      <td>278846</td>\n",
              "      <td>30-04-2020</td>\n",
              "      <td>False</td>\n",
              "      <td>False</td>\n",
              "      <td>False</td>\n",
              "      <td>False</td>\n",
              "      <td>False</td>\n",
              "      <td>negative</td>\n",
              "      <td>male</td>\n",
              "      <td>Other</td>\n",
              "    </tr>\n",
              "    <tr>\n",
              "      <th>278846</th>\n",
              "      <td>278847</td>\n",
              "      <td>30-04-2020</td>\n",
              "      <td>False</td>\n",
              "      <td>False</td>\n",
              "      <td>False</td>\n",
              "      <td>False</td>\n",
              "      <td>False</td>\n",
              "      <td>negative</td>\n",
              "      <td>male</td>\n",
              "      <td>Other</td>\n",
              "    </tr>\n",
              "    <tr>\n",
              "      <th>278847</th>\n",
              "      <td>278848</td>\n",
              "      <td>30-04-2020</td>\n",
              "      <td>False</td>\n",
              "      <td>False</td>\n",
              "      <td>False</td>\n",
              "      <td>False</td>\n",
              "      <td>False</td>\n",
              "      <td>negative</td>\n",
              "      <td>female</td>\n",
              "      <td>Other</td>\n",
              "    </tr>\n",
              "  </tbody>\n",
              "</table>\n",
              "<p>274956 rows × 10 columns</p>\n",
              "</div>\n",
              "    <div class=\"colab-df-buttons\">\n",
              "\n",
              "  <div class=\"colab-df-container\">\n",
              "    <button class=\"colab-df-convert\" onclick=\"convertToInteractive('df-2f904e0b-25fb-44a2-ae22-928d6c129286')\"\n",
              "            title=\"Convert this dataframe to an interactive table.\"\n",
              "            style=\"display:none;\">\n",
              "\n",
              "  <svg xmlns=\"http://www.w3.org/2000/svg\" height=\"24px\" viewBox=\"0 -960 960 960\">\n",
              "    <path d=\"M120-120v-720h720v720H120Zm60-500h600v-160H180v160Zm220 220h160v-160H400v160Zm0 220h160v-160H400v160ZM180-400h160v-160H180v160Zm440 0h160v-160H620v160ZM180-180h160v-160H180v160Zm440 0h160v-160H620v160Z\"/>\n",
              "  </svg>\n",
              "    </button>\n",
              "\n",
              "  <style>\n",
              "    .colab-df-container {\n",
              "      display:flex;\n",
              "      gap: 12px;\n",
              "    }\n",
              "\n",
              "    .colab-df-convert {\n",
              "      background-color: #E8F0FE;\n",
              "      border: none;\n",
              "      border-radius: 50%;\n",
              "      cursor: pointer;\n",
              "      display: none;\n",
              "      fill: #1967D2;\n",
              "      height: 32px;\n",
              "      padding: 0 0 0 0;\n",
              "      width: 32px;\n",
              "    }\n",
              "\n",
              "    .colab-df-convert:hover {\n",
              "      background-color: #E2EBFA;\n",
              "      box-shadow: 0px 1px 2px rgba(60, 64, 67, 0.3), 0px 1px 3px 1px rgba(60, 64, 67, 0.15);\n",
              "      fill: #174EA6;\n",
              "    }\n",
              "\n",
              "    .colab-df-buttons div {\n",
              "      margin-bottom: 4px;\n",
              "    }\n",
              "\n",
              "    [theme=dark] .colab-df-convert {\n",
              "      background-color: #3B4455;\n",
              "      fill: #D2E3FC;\n",
              "    }\n",
              "\n",
              "    [theme=dark] .colab-df-convert:hover {\n",
              "      background-color: #434B5C;\n",
              "      box-shadow: 0px 1px 3px 1px rgba(0, 0, 0, 0.15);\n",
              "      filter: drop-shadow(0px 1px 2px rgba(0, 0, 0, 0.3));\n",
              "      fill: #FFFFFF;\n",
              "    }\n",
              "  </style>\n",
              "\n",
              "    <script>\n",
              "      const buttonEl =\n",
              "        document.querySelector('#df-2f904e0b-25fb-44a2-ae22-928d6c129286 button.colab-df-convert');\n",
              "      buttonEl.style.display =\n",
              "        google.colab.kernel.accessAllowed ? 'block' : 'none';\n",
              "\n",
              "      async function convertToInteractive(key) {\n",
              "        const element = document.querySelector('#df-2f904e0b-25fb-44a2-ae22-928d6c129286');\n",
              "        const dataTable =\n",
              "          await google.colab.kernel.invokeFunction('convertToInteractive',\n",
              "                                                    [key], {});\n",
              "        if (!dataTable) return;\n",
              "\n",
              "        const docLinkHtml = 'Like what you see? Visit the ' +\n",
              "          '<a target=\"_blank\" href=https://colab.research.google.com/notebooks/data_table.ipynb>data table notebook</a>'\n",
              "          + ' to learn more about interactive tables.';\n",
              "        element.innerHTML = '';\n",
              "        dataTable['output_type'] = 'display_data';\n",
              "        await google.colab.output.renderOutput(dataTable, element);\n",
              "        const docLink = document.createElement('div');\n",
              "        docLink.innerHTML = docLinkHtml;\n",
              "        element.appendChild(docLink);\n",
              "      }\n",
              "    </script>\n",
              "  </div>\n",
              "\n",
              "\n",
              "<div id=\"df-f2c90234-0796-4cf4-9aad-b46ad6f8ff78\">\n",
              "  <button class=\"colab-df-quickchart\" onclick=\"quickchart('df-f2c90234-0796-4cf4-9aad-b46ad6f8ff78')\"\n",
              "            title=\"Suggest charts.\"\n",
              "            style=\"display:none;\">\n",
              "\n",
              "<svg xmlns=\"http://www.w3.org/2000/svg\" height=\"24px\"viewBox=\"0 0 24 24\"\n",
              "     width=\"24px\">\n",
              "    <g>\n",
              "        <path d=\"M19 3H5c-1.1 0-2 .9-2 2v14c0 1.1.9 2 2 2h14c1.1 0 2-.9 2-2V5c0-1.1-.9-2-2-2zM9 17H7v-7h2v7zm4 0h-2V7h2v10zm4 0h-2v-4h2v4z\"/>\n",
              "    </g>\n",
              "</svg>\n",
              "  </button>\n",
              "\n",
              "<style>\n",
              "  .colab-df-quickchart {\n",
              "    background-color: #E8F0FE;\n",
              "    border: none;\n",
              "    border-radius: 50%;\n",
              "    cursor: pointer;\n",
              "    display: none;\n",
              "    fill: #1967D2;\n",
              "    height: 32px;\n",
              "    padding: 0 0 0 0;\n",
              "    width: 32px;\n",
              "  }\n",
              "\n",
              "  .colab-df-quickchart:hover {\n",
              "    background-color: #E2EBFA;\n",
              "    box-shadow: 0px 1px 2px rgba(60, 64, 67, 0.3), 0px 1px 3px 1px rgba(60, 64, 67, 0.15);\n",
              "    fill: #174EA6;\n",
              "  }\n",
              "\n",
              "  [theme=dark] .colab-df-quickchart {\n",
              "    background-color: #3B4455;\n",
              "    fill: #D2E3FC;\n",
              "  }\n",
              "\n",
              "  [theme=dark] .colab-df-quickchart:hover {\n",
              "    background-color: #434B5C;\n",
              "    box-shadow: 0px 1px 3px 1px rgba(0, 0, 0, 0.15);\n",
              "    filter: drop-shadow(0px 1px 2px rgba(0, 0, 0, 0.3));\n",
              "    fill: #FFFFFF;\n",
              "  }\n",
              "</style>\n",
              "\n",
              "  <script>\n",
              "    async function quickchart(key) {\n",
              "      const charts = await google.colab.kernel.invokeFunction(\n",
              "          'suggestCharts', [key], {});\n",
              "    }\n",
              "    (() => {\n",
              "      let quickchartButtonEl =\n",
              "        document.querySelector('#df-f2c90234-0796-4cf4-9aad-b46ad6f8ff78 button');\n",
              "      quickchartButtonEl.style.display =\n",
              "        google.colab.kernel.accessAllowed ? 'block' : 'none';\n",
              "    })();\n",
              "  </script>\n",
              "</div>\n",
              "    </div>\n",
              "  </div>\n"
            ]
          },
          "metadata": {},
          "execution_count": 19
        }
      ],
      "source": [
        "Covid_test = Covid_test[Covid_test.Corona != \"other\"]\n",
        "Covid_test"
      ],
      "id": "GJb-DcDLyayL"
    },
    {
      "cell_type": "code",
      "execution_count": 20,
      "metadata": {
        "colab": {
          "base_uri": "https://localhost:8080/"
        },
        "id": "2qmHWpITfYo1",
        "outputId": "7626e0e2-8038-46f4-cb57-d6bd2add4cde"
      },
      "outputs": [
        {
          "output_type": "execute_result",
          "data": {
            "text/plain": [
              "negative    260227\n",
              "positive     14729\n",
              "Name: Corona, dtype: int64"
            ]
          },
          "metadata": {},
          "execution_count": 20
        }
      ],
      "source": [
        "Covid_test['Corona'].value_counts()"
      ],
      "id": "2qmHWpITfYo1"
    },
    {
      "cell_type": "markdown",
      "metadata": {
        "id": "4c14b5b3"
      },
      "source": [
        "## Univariate Analysis"
      ],
      "id": "4c14b5b3"
    },
    {
      "cell_type": "code",
      "execution_count": 88,
      "metadata": {
        "colab": {
          "base_uri": "https://localhost:8080/",
          "height": 690
        },
        "id": "K1v9F79MpnjC",
        "outputId": "4fdd15ca-25a5-48e4-808c-82217ad11e23"
      },
      "outputs": [
        {
          "output_type": "display_data",
          "data": {
            "text/plain": [
              "<Figure size 1000x800 with 6 Axes>"
            ],
            "image/png": "[encoded data removed]"
          },
          "metadata": {}
        }
      ],
      "source": [
        "fig = plt.figure(figsize=(10,8))\n",
        "\n",
        "# Plot Pie Chart for 'Cough_symptoms'\n",
        "value_counts_cough = Covid_test['Cough_symptoms'].value_counts()\n",
        "plt.subplot(2,3,1)\n",
        "plt.pie(value_counts_cough,labels=value_counts_cough.index, autopct='%1.1f%%')\n",
        "plt.title('Pie Chart of Cough_symptoms')\n",
        "plt.ylabel('')\n",
        "\n",
        "# Plot Pie Chart for 'Fever'\n",
        "value_counts_fever = Covid_test['Fever'].value_counts()\n",
        "plt.subplot(2,3,2)\n",
        "plt.pie(value_counts_fever,labels=value_counts_fever.index, autopct='%1.1f%%')\n",
        "plt.title('Pie Chart of Fever')\n",
        "plt.ylabel('')\n",
        "\n",
        "# Plot Pie Chart for 'Sore_throat'\n",
        "value_counts_sore_throat = Covid_test['Sore_throat'].value_counts()\n",
        "plt.subplot(2,3,3)\n",
        "plt.pie(value_counts_sore_throat, labels=value_counts_sore_throat.index, autopct='%1.1f%%')\n",
        "plt.title('Pie Chart of Sore_throat')\n",
        "plt.ylabel('')\n",
        "\n",
        "# Plot Pie Chart for 'Shortness_of_breath'\n",
        "Shortness_of_breath = Covid_test['Shortness_of_breath'].value_counts()\n",
        "plt.subplot(2,3,4)\n",
        "plt.pie(Shortness_of_breath, labels=Shortness_of_breath.index, autopct='%1.1f%%')\n",
        "plt.title('Pie Chart of Shortness_of_breath')\n",
        "plt.ylabel('')\n",
        "\n",
        "# Plot Pie Chart for 'Headache'\n",
        "Headache = Covid_test['Headache'].value_counts()\n",
        "plt.subplot(2,3,5)\n",
        "plt.pie(Headache, labels=Headache.index, autopct='%1.1f%%')\n",
        "plt.title('Pie Chart of Headache')\n",
        "plt.ylabel('')\n",
        "\n",
        "# Plot Pie Chart for 'Corona'\n",
        "Corona = Covid_test['Corona'].value_counts()\n",
        "plt.subplot(2,3,6)\n",
        "plt.pie(Corona, labels=Corona.index, autopct='%1.1f%%')\n",
        "plt.title('Pie Chart of Corona')\n",
        "plt.ylabel('')\n",
        "\n",
        "# Adjust layout and show plot\n",
        "plt.tight_layout()\n",
        "plt.show()"
      ],
      "id": "K1v9F79MpnjC"
    },
    {
      "cell_type": "markdown",
      "metadata": {
        "id": "cVXp2vV1p57m"
      },
      "source": [
        "**From the pie chart graph we can see that majority of the symptoms are False**"
      ],
      "id": "cVXp2vV1p57m"
    },
    {
      "cell_type": "markdown",
      "metadata": {
        "id": "DgCoJesnZ5Im"
      },
      "source": [
        "# Now from the dataset lets findout  what are  the major symptoms which are True Based on their Gender\n",
        "\n"
      ],
      "id": "DgCoJesnZ5Im"
    },
    {
      "cell_type": "code",
      "execution_count": 22,
      "metadata": {
        "colab": {
          "base_uri": "https://localhost:8080/",
          "height": 407
        },
        "id": "1izXzWWH5ZW1",
        "outputId": "a65d1d9e-c065-483d-ff9b-8b9a7b889bca"
      },
      "outputs": [
        {
          "output_type": "display_data",
          "data": {
            "text/plain": [
              "<Figure size 800x400 with 1 Axes>"
            ],
            "image/png": "[encoded data removed]"
          },
          "metadata": {}
        }
      ],
      "source": [
        "symptom_columns = ['Cough_symptoms', 'Fever', 'Sore_throat', 'Shortness_of_breath', 'Headache']\n",
        "\n",
        "# Filter data to include only 'True' values in symptom columns\n",
        "filtered_data = Covid_test[symptom_columns][Covid_test[symptom_columns] == True]\n",
        "\n",
        "# Group data by 'Sex' and calculate count for symptom columns\n",
        "grouped = filtered_data.groupby(Covid_test['Sex']).count()\n",
        "\n",
        "# Plot grouped data\n",
        "grouped.plot(kind='bar', figsize=(8,4))\n",
        "plt.title('Count of Symptom Presence by Gender')\n",
        "plt.ylabel('Count of Presence')\n",
        "plt.xlabel('Gender')\n",
        "plt.xticks(rotation=0)\n",
        "plt.legend(title='Symptoms')\n",
        "\n",
        "\n",
        "plt.tight_layout()\n",
        "plt.show()"
      ],
      "id": "1izXzWWH5ZW1"
    },
    {
      "cell_type": "markdown",
      "source": [
        "**so from the bar char we can see that the symptoms of covid in  both the  gender are same so it implies that the covid 19 is independent of gender**"
      ],
      "metadata": {
        "id": "hck9TjOAySGP"
      },
      "id": "hck9TjOAySGP"
    },
    {
      "cell_type": "markdown",
      "metadata": {
        "id": "bv2dFksMbw4S"
      },
      "source": [
        "# Now let's find out the what are the  major symptom cause of the people who are corona positive"
      ],
      "id": "bv2dFksMbw4S"
    },
    {
      "cell_type": "code",
      "execution_count": 23,
      "metadata": {
        "colab": {
          "base_uri": "https://localhost:8080/",
          "height": 584
        },
        "id": "Yw75IOrtREGI",
        "outputId": "564c7c73-a1d0-43f5-9d5c-fde5f6a36dd4"
      },
      "outputs": [
        {
          "output_type": "display_data",
          "data": {
            "text/plain": [
              "<Figure size 800x500 with 1 Axes>"
            ],
            "image/png": "[encoded data removed]"
          },
          "metadata": {}
        }
      ],
      "source": [
        "positive_cases = Covid_test[Covid_test['Corona'] =='positive']\n",
        "\n",
        "# Calculate symptom counts\n",
        "symptom_counts = positive_cases.iloc[:,2:7].sum()\n",
        "\n",
        "# Plotting using Matplotlib\n",
        "plt.figure(figsize=(8,5))\n",
        "plt.bar(symptom_counts.index, symptom_counts.values)\n",
        "plt.title(\"Sum of Symptoms  for Corona Positive Cases\")\n",
        "plt.xlabel(\"Symptoms\")\n",
        "plt.ylabel(\"Number of Cases\")\n",
        "plt.xticks(rotation=-45)\n",
        "plt.show()"
      ],
      "id": "Yw75IOrtREGI"
    },
    {
      "cell_type": "markdown",
      "source": [
        "**From the graph we can see that major symptoms in covid positive patient is cough fever and headache.**"
      ],
      "metadata": {
        "id": "Ojt8034ny0m8"
      },
      "id": "Ojt8034ny0m8"
    },
    {
      "cell_type": "markdown",
      "metadata": {
        "id": "DCzvIXzPbBHD"
      },
      "source": [
        "# Now lets findout what are the major symptoms which are True and how they got corona and through by which type of contact"
      ],
      "id": "DCzvIXzPbBHD"
    },
    {
      "cell_type": "code",
      "execution_count": 24,
      "metadata": {
        "colab": {
          "base_uri": "https://localhost:8080/",
          "height": 410
        },
        "id": "Oz2M5f0a9BkG",
        "outputId": "84e264ea-baab-4710-93b4-626325598e80"
      },
      "outputs": [
        {
          "output_type": "display_data",
          "data": {
            "text/plain": [
              "<Figure size 600x400 with 1 Axes>"
            ],
            "image/png": "[encoded data removed]"
          },
          "metadata": {}
        }
      ],
      "source": [
        "symptom_columns = [ 'Cough_symptoms', 'Fever', 'Sore_throat','Shortness_of_breath', 'Headache']\n",
        "filtered_data_Know_contact = Covid_test[symptom_columns][Covid_test[symptom_columns] == True]\n",
        "\n",
        "# Group data by 'Known_contact' and calculate mean for symptom columns\n",
        "grouped = filtered_data.groupby(Covid_test['Known_contact']).count()\n",
        "\n",
        "# Plot grouped data\n",
        "grouped.plot(kind='bar', figsize=(6,4))\n",
        "plt.title('count Symptom Presence by Known_contact')\n",
        "plt.ylabel('count Presence')\n",
        "plt.xlabel('Known_contact')\n",
        "plt.xticks(rotation=0)\n",
        "plt.legend(title='Symptoms')\n",
        "plt.show()"
      ],
      "id": "Oz2M5f0a9BkG"
    },
    {
      "cell_type": "code",
      "execution_count": 25,
      "metadata": {
        "colab": {
          "base_uri": "https://localhost:8080/",
          "height": 415
        },
        "id": "7Tb4vHJ3y942",
        "outputId": "faad4c37-4954-4160-eb52-bd90075fb0ee"
      },
      "outputs": [
        {
          "output_type": "display_data",
          "data": {
            "text/plain": [
              "<Figure size 400x400 with 1 Axes>"
            ],
            "image/png": "[encoded data removed]"
          },
          "metadata": {}
        }
      ],
      "source": [
        "# checking the imbalance using countplot\n",
        "\n",
        "plt.style.use('ggplot')\n",
        "plt.figure(figsize = [4,4])\n",
        "\n",
        "sns.countplot(data=Covid_test, x='Corona')\n",
        "plt.title(\"Checking imbalance ratio of Corona variable\")\n",
        "plt.show()"
      ],
      "id": "7Tb4vHJ3y942"
    },
    {
      "cell_type": "code",
      "execution_count": 26,
      "metadata": {
        "colab": {
          "base_uri": "https://localhost:8080/"
        },
        "id": "G6TLdN2QzSBc",
        "outputId": "3aeec5a9-e388-4d78-d98a-80432a244ed2"
      },
      "outputs": [
        {
          "output_type": "execute_result",
          "data": {
            "text/plain": [
              "17.667662434652726"
            ]
          },
          "metadata": {},
          "execution_count": 26
        }
      ],
      "source": [
        "# checking exact Corona Positive to Corona negative ratio\n",
        "Covid_test[Covid_test.Corona=='negative'].shape[0]/Covid_test[Covid_test.Corona=='positive'].shape[0]"
      ],
      "id": "G6TLdN2QzSBc"
    },
    {
      "cell_type": "markdown",
      "metadata": {
        "id": "W27W28hJ27lm"
      },
      "source": [
        "This shows that 1 in every 17-18 patients is corona positive."
      ],
      "id": "W27W28hJ27lm"
    },
    {
      "cell_type": "code",
      "execution_count": null,
      "metadata": {
        "id": "UXZZiL1TKly5"
      },
      "outputs": [],
      "source": [
        "# Now let's export the cleaned dataset for analysis of dataset in Mysql project in excel format\n",
        "Covid_test.to_excel(\"Final_cleaned_corona_test_data.xlsx\")"
      ],
      "id": "UXZZiL1TKly5"
    },
    {
      "cell_type": "markdown",
      "metadata": {
        "id": "f609acbf"
      },
      "source": [
        "## Feature Engineering and Selection"
      ],
      "id": "f609acbf"
    },
    {
      "cell_type": "code",
      "execution_count": 46,
      "metadata": {
        "colab": {
          "base_uri": "https://localhost:8080/",
          "height": 423
        },
        "id": "f6a7e48e",
        "outputId": "0f1b8bcf-24ec-4c00-9511-1a4a60a9eacc"
      },
      "outputs": [
        {
          "output_type": "execute_result",
          "data": {
            "text/plain": [
              "        Ind_ID   Test_date  Cough_symptoms  Fever  Sore_throat  \\\n",
              "0            1  11-03-2020            True  False         True   \n",
              "1            2  11-03-2020           False   True        False   \n",
              "2            3  11-03-2020           False   True        False   \n",
              "3            4  11-03-2020            True  False        False   \n",
              "4            5  11-03-2020            True  False        False   \n",
              "...        ...         ...             ...    ...          ...   \n",
              "278843  278844  30-04-2020           False  False        False   \n",
              "278844  278845  30-04-2020           False  False        False   \n",
              "278845  278846  30-04-2020           False  False        False   \n",
              "278846  278847  30-04-2020           False  False        False   \n",
              "278847  278848  30-04-2020           False  False        False   \n",
              "\n",
              "        Shortness_of_breath  Headache    Corona     Sex  \\\n",
              "0                     False     False  negative  female   \n",
              "1                     False     False  positive  female   \n",
              "2                     False     False  positive  female   \n",
              "3                     False     False  negative  female   \n",
              "4                     False     False  negative  female   \n",
              "...                     ...       ...       ...     ...   \n",
              "278843                False     False  positive    male   \n",
              "278844                False     False  negative  female   \n",
              "278845                False     False  negative    male   \n",
              "278846                False     False  negative    male   \n",
              "278847                False     False  negative  female   \n",
              "\n",
              "                 Known_contact  \n",
              "0                       Abroad  \n",
              "1                       Abroad  \n",
              "2                       Abroad  \n",
              "3                       Abroad  \n",
              "4       Contact with confirmed  \n",
              "...                        ...  \n",
              "278843                   Other  \n",
              "278844                   Other  \n",
              "278845                   Other  \n",
              "278846                   Other  \n",
              "278847                   Other  \n",
              "\n",
              "[274956 rows x 10 columns]"
            ],
            "text/html": [
              "\n",
              "  <div id=\"df-e80708aa-bc4a-4518-a391-b0aec0871895\" class=\"colab-df-container\">\n",
              "    <div>\n",
              "<style scoped>\n",
              "    .dataframe tbody tr th:only-of-type {\n",
              "        vertical-align: middle;\n",
              "    }\n",
              "\n",
              "    .dataframe tbody tr th {\n",
              "        vertical-align: top;\n",
              "    }\n",
              "\n",
              "    .dataframe thead th {\n",
              "        text-align: right;\n",
              "    }\n",
              "</style>\n",
              "<table border=\"1\" class=\"dataframe\">\n",
              "  <thead>\n",
              "    <tr style=\"text-align: right;\">\n",
              "      <th></th>\n",
              "      <th>Ind_ID</th>\n",
              "      <th>Test_date</th>\n",
              "      <th>Cough_symptoms</th>\n",
              "      <th>Fever</th>\n",
              "      <th>Sore_throat</th>\n",
              "      <th>Shortness_of_breath</th>\n",
              "      <th>Headache</th>\n",
              "      <th>Corona</th>\n",
              "      <th>Sex</th>\n",
              "      <th>Known_contact</th>\n",
              "    </tr>\n",
              "  </thead>\n",
              "  <tbody>\n",
              "    <tr>\n",
              "      <th>0</th>\n",
              "      <td>1</td>\n",
              "      <td>11-03-2020</td>\n",
              "      <td>True</td>\n",
              "      <td>False</td>\n",
              "      <td>True</td>\n",
              "      <td>False</td>\n",
              "      <td>False</td>\n",
              "      <td>negative</td>\n",
              "      <td>female</td>\n",
              "      <td>Abroad</td>\n",
              "    </tr>\n",
              "    <tr>\n",
              "      <th>1</th>\n",
              "      <td>2</td>\n",
              "      <td>11-03-2020</td>\n",
              "      <td>False</td>\n",
              "      <td>True</td>\n",
              "      <td>False</td>\n",
              "      <td>False</td>\n",
              "      <td>False</td>\n",
              "      <td>positive</td>\n",
              "      <td>female</td>\n",
              "      <td>Abroad</td>\n",
              "    </tr>\n",
              "    <tr>\n",
              "      <th>2</th>\n",
              "      <td>3</td>\n",
              "      <td>11-03-2020</td>\n",
              "      <td>False</td>\n",
              "      <td>True</td>\n",
              "      <td>False</td>\n",
              "      <td>False</td>\n",
              "      <td>False</td>\n",
              "      <td>positive</td>\n",
              "      <td>female</td>\n",
              "      <td>Abroad</td>\n",
              "    </tr>\n",
              "    <tr>\n",
              "      <th>3</th>\n",
              "      <td>4</td>\n",
              "      <td>11-03-2020</td>\n",
              "      <td>True</td>\n",
              "      <td>False</td>\n",
              "      <td>False</td>\n",
              "      <td>False</td>\n",
              "      <td>False</td>\n",
              "      <td>negative</td>\n",
              "      <td>female</td>\n",
              "      <td>Abroad</td>\n",
              "    </tr>\n",
              "    <tr>\n",
              "      <th>4</th>\n",
              "      <td>5</td>\n",
              "      <td>11-03-2020</td>\n",
              "      <td>True</td>\n",
              "      <td>False</td>\n",
              "      <td>False</td>\n",
              "      <td>False</td>\n",
              "      <td>False</td>\n",
              "      <td>negative</td>\n",
              "      <td>female</td>\n",
              "      <td>Contact with confirmed</td>\n",
              "    </tr>\n",
              "    <tr>\n",
              "      <th>...</th>\n",
              "      <td>...</td>\n",
              "      <td>...</td>\n",
              "      <td>...</td>\n",
              "      <td>...</td>\n",
              "      <td>...</td>\n",
              "      <td>...</td>\n",
              "      <td>...</td>\n",
              "      <td>...</td>\n",
              "      <td>...</td>\n",
              "      <td>...</td>\n",
              "    </tr>\n",
              "    <tr>\n",
              "      <th>278843</th>\n",
              "      <td>278844</td>\n",
              "      <td>30-04-2020</td>\n",
              "      <td>False</td>\n",
              "      <td>False</td>\n",
              "      <td>False</td>\n",
              "      <td>False</td>\n",
              "      <td>False</td>\n",
              "      <td>positive</td>\n",
              "      <td>male</td>\n",
              "      <td>Other</td>\n",
              "    </tr>\n",
              "    <tr>\n",
              "      <th>278844</th>\n",
              "      <td>278845</td>\n",
              "      <td>30-04-2020</td>\n",
              "      <td>False</td>\n",
              "      <td>False</td>\n",
              "      <td>False</td>\n",
              "      <td>False</td>\n",
              "      <td>False</td>\n",
              "      <td>negative</td>\n",
              "      <td>female</td>\n",
              "      <td>Other</td>\n",
              "    </tr>\n",
              "    <tr>\n",
              "      <th>278845</th>\n",
              "      <td>278846</td>\n",
              "      <td>30-04-2020</td>\n",
              "      <td>False</td>\n",
              "      <td>False</td>\n",
              "      <td>False</td>\n",
              "      <td>False</td>\n",
              "      <td>False</td>\n",
              "      <td>negative</td>\n",
              "      <td>male</td>\n",
              "      <td>Other</td>\n",
              "    </tr>\n",
              "    <tr>\n",
              "      <th>278846</th>\n",
              "      <td>278847</td>\n",
              "      <td>30-04-2020</td>\n",
              "      <td>False</td>\n",
              "      <td>False</td>\n",
              "      <td>False</td>\n",
              "      <td>False</td>\n",
              "      <td>False</td>\n",
              "      <td>negative</td>\n",
              "      <td>male</td>\n",
              "      <td>Other</td>\n",
              "    </tr>\n",
              "    <tr>\n",
              "      <th>278847</th>\n",
              "      <td>278848</td>\n",
              "      <td>30-04-2020</td>\n",
              "      <td>False</td>\n",
              "      <td>False</td>\n",
              "      <td>False</td>\n",
              "      <td>False</td>\n",
              "      <td>False</td>\n",
              "      <td>negative</td>\n",
              "      <td>female</td>\n",
              "      <td>Other</td>\n",
              "    </tr>\n",
              "  </tbody>\n",
              "</table>\n",
              "<p>274956 rows × 10 columns</p>\n",
              "</div>\n",
              "    <div class=\"colab-df-buttons\">\n",
              "\n",
              "  <div class=\"colab-df-container\">\n",
              "    <button class=\"colab-df-convert\" onclick=\"convertToInteractive('df-e80708aa-bc4a-4518-a391-b0aec0871895')\"\n",
              "            title=\"Convert this dataframe to an interactive table.\"\n",
              "            style=\"display:none;\">\n",
              "\n",
              "  <svg xmlns=\"http://www.w3.org/2000/svg\" height=\"24px\" viewBox=\"0 -960 960 960\">\n",
              "    <path d=\"M120-120v-720h720v720H120Zm60-500h600v-160H180v160Zm220 220h160v-160H400v160Zm0 220h160v-160H400v160ZM180-400h160v-160H180v160Zm440 0h160v-160H620v160ZM180-180h160v-160H180v160Zm440 0h160v-160H620v160Z\"/>\n",
              "  </svg>\n",
              "    </button>\n",
              "\n",
              "  <style>\n",
              "    .colab-df-container {\n",
              "      display:flex;\n",
              "      gap: 12px;\n",
              "    }\n",
              "\n",
              "    .colab-df-convert {\n",
              "      background-color: #E8F0FE;\n",
              "      border: none;\n",
              "      border-radius: 50%;\n",
              "      cursor: pointer;\n",
              "      display: none;\n",
              "      fill: #1967D2;\n",
              "      height: 32px;\n",
              "      padding: 0 0 0 0;\n",
              "      width: 32px;\n",
              "    }\n",
              "\n",
              "    .colab-df-convert:hover {\n",
              "      background-color: #E2EBFA;\n",
              "      box-shadow: 0px 1px 2px rgba(60, 64, 67, 0.3), 0px 1px 3px 1px rgba(60, 64, 67, 0.15);\n",
              "      fill: #174EA6;\n",
              "    }\n",
              "\n",
              "    .colab-df-buttons div {\n",
              "      margin-bottom: 4px;\n",
              "    }\n",
              "\n",
              "    [theme=dark] .colab-df-convert {\n",
              "      background-color: #3B4455;\n",
              "      fill: #D2E3FC;\n",
              "    }\n",
              "\n",
              "    [theme=dark] .colab-df-convert:hover {\n",
              "      background-color: #434B5C;\n",
              "      box-shadow: 0px 1px 3px 1px rgba(0, 0, 0, 0.15);\n",
              "      filter: drop-shadow(0px 1px 2px rgba(0, 0, 0, 0.3));\n",
              "      fill: #FFFFFF;\n",
              "    }\n",
              "  </style>\n",
              "\n",
              "    <script>\n",
              "      const buttonEl =\n",
              "        document.querySelector('#df-e80708aa-bc4a-4518-a391-b0aec0871895 button.colab-df-convert');\n",
              "      buttonEl.style.display =\n",
              "        google.colab.kernel.accessAllowed ? 'block' : 'none';\n",
              "\n",
              "      async function convertToInteractive(key) {\n",
              "        const element = document.querySelector('#df-e80708aa-bc4a-4518-a391-b0aec0871895');\n",
              "        const dataTable =\n",
              "          await google.colab.kernel.invokeFunction('convertToInteractive',\n",
              "                                                    [key], {});\n",
              "        if (!dataTable) return;\n",
              "\n",
              "        const docLinkHtml = 'Like what you see? Visit the ' +\n",
              "          '<a target=\"_blank\" href=https://colab.research.google.com/notebooks/data_table.ipynb>data table notebook</a>'\n",
              "          + ' to learn more about interactive tables.';\n",
              "        element.innerHTML = '';\n",
              "        dataTable['output_type'] = 'display_data';\n",
              "        await google.colab.output.renderOutput(dataTable, element);\n",
              "        const docLink = document.createElement('div');\n",
              "        docLink.innerHTML = docLinkHtml;\n",
              "        element.appendChild(docLink);\n",
              "      }\n",
              "    </script>\n",
              "  </div>\n",
              "\n",
              "\n",
              "<div id=\"df-9466a0b6-a23f-4ff1-84af-48a138cb6dbd\">\n",
              "  <button class=\"colab-df-quickchart\" onclick=\"quickchart('df-9466a0b6-a23f-4ff1-84af-48a138cb6dbd')\"\n",
              "            title=\"Suggest charts.\"\n",
              "            style=\"display:none;\">\n",
              "\n",
              "<svg xmlns=\"http://www.w3.org/2000/svg\" height=\"24px\"viewBox=\"0 0 24 24\"\n",
              "     width=\"24px\">\n",
              "    <g>\n",
              "        <path d=\"M19 3H5c-1.1 0-2 .9-2 2v14c0 1.1.9 2 2 2h14c1.1 0 2-.9 2-2V5c0-1.1-.9-2-2-2zM9 17H7v-7h2v7zm4 0h-2V7h2v10zm4 0h-2v-4h2v4z\"/>\n",
              "    </g>\n",
              "</svg>\n",
              "  </button>\n",
              "\n",
              "<style>\n",
              "  .colab-df-quickchart {\n",
              "    background-color: #E8F0FE;\n",
              "    border: none;\n",
              "    border-radius: 50%;\n",
              "    cursor: pointer;\n",
              "    display: none;\n",
              "    fill: #1967D2;\n",
              "    height: 32px;\n",
              "    padding: 0 0 0 0;\n",
              "    width: 32px;\n",
              "  }\n",
              "\n",
              "  .colab-df-quickchart:hover {\n",
              "    background-color: #E2EBFA;\n",
              "    box-shadow: 0px 1px 2px rgba(60, 64, 67, 0.3), 0px 1px 3px 1px rgba(60, 64, 67, 0.15);\n",
              "    fill: #174EA6;\n",
              "  }\n",
              "\n",
              "  [theme=dark] .colab-df-quickchart {\n",
              "    background-color: #3B4455;\n",
              "    fill: #D2E3FC;\n",
              "  }\n",
              "\n",
              "  [theme=dark] .colab-df-quickchart:hover {\n",
              "    background-color: #434B5C;\n",
              "    box-shadow: 0px 1px 3px 1px rgba(0, 0, 0, 0.15);\n",
              "    filter: drop-shadow(0px 1px 2px rgba(0, 0, 0, 0.3));\n",
              "    fill: #FFFFFF;\n",
              "  }\n",
              "</style>\n",
              "\n",
              "  <script>\n",
              "    async function quickchart(key) {\n",
              "      const charts = await google.colab.kernel.invokeFunction(\n",
              "          'suggestCharts', [key], {});\n",
              "    }\n",
              "    (() => {\n",
              "      let quickchartButtonEl =\n",
              "        document.querySelector('#df-9466a0b6-a23f-4ff1-84af-48a138cb6dbd button');\n",
              "      quickchartButtonEl.style.display =\n",
              "        google.colab.kernel.accessAllowed ? 'block' : 'none';\n",
              "    })();\n",
              "  </script>\n",
              "</div>\n",
              "    </div>\n",
              "  </div>\n"
            ]
          },
          "metadata": {},
          "execution_count": 46
        }
      ],
      "source": [
        "Covid_Test1= Covid_test.copy(deep=True)\n",
        "Covid_Test1"
      ],
      "id": "f6a7e48e"
    },
    {
      "cell_type": "markdown",
      "metadata": {
        "id": "da397e43"
      },
      "source": [
        "#### Dealing with Categorical Data"
      ],
      "id": "da397e43"
    },
    {
      "cell_type": "code",
      "execution_count": 47,
      "metadata": {
        "id": "6afbff65"
      },
      "outputs": [],
      "source": [
        "#label encoding on covid table column\n",
        "# Import label encoder\n",
        "from sklearn.preprocessing import LabelEncoder"
      ],
      "id": "6afbff65"
    },
    {
      "cell_type": "code",
      "execution_count": 48,
      "metadata": {
        "id": "cbwWyq22slqW"
      },
      "outputs": [],
      "source": [
        "# Perfoming LabelEncoding\n",
        "Covid_Test1[['Cough_symptoms','Fever','Sore_throat','Corona','Shortness_of_breath','Headache', 'Sex' , 'Known_contact']] =Covid_Test1[['Cough_symptoms','Fever','Sore_throat','Shortness_of_breath','Corona','Headache','Sex' , 'Known_contact']].apply(LabelEncoder().fit_transform)"
      ],
      "id": "cbwWyq22slqW"
    },
    {
      "cell_type": "code",
      "execution_count": 49,
      "metadata": {
        "colab": {
          "base_uri": "https://localhost:8080/",
          "height": 206
        },
        "id": "pW1hqR_Anmel",
        "outputId": "f20ec2a5-f873-4d97-f7d4-aef338b14fd7"
      },
      "outputs": [
        {
          "output_type": "execute_result",
          "data": {
            "text/plain": [
              "   Ind_ID   Test_date  Cough_symptoms  Fever  Sore_throat  \\\n",
              "0       1  11-03-2020               1      0            1   \n",
              "1       2  11-03-2020               0      1            0   \n",
              "2       3  11-03-2020               0      1            0   \n",
              "3       4  11-03-2020               1      0            0   \n",
              "4       5  11-03-2020               1      0            0   \n",
              "\n",
              "   Shortness_of_breath  Headache  Corona  Sex  Known_contact  \n",
              "0                    0         0       0    0              0  \n",
              "1                    1         0       0    0              0  \n",
              "2                    1         0       0    0              0  \n",
              "3                    0         0       0    0              0  \n",
              "4                    0         0       0    0              1  "
            ],
            "text/html": [
              "\n",
              "  <div id=\"df-089ac7a2-76fe-47a4-928b-2bb3b8c69f47\" class=\"colab-df-container\">\n",
              "    <div>\n",
              "<style scoped>\n",
              "    .dataframe tbody tr th:only-of-type {\n",
              "        vertical-align: middle;\n",
              "    }\n",
              "\n",
              "    .dataframe tbody tr th {\n",
              "        vertical-align: top;\n",
              "    }\n",
              "\n",
              "    .dataframe thead th {\n",
              "        text-align: right;\n",
              "    }\n",
              "</style>\n",
              "<table border=\"1\" class=\"dataframe\">\n",
              "  <thead>\n",
              "    <tr style=\"text-align: right;\">\n",
              "      <th></th>\n",
              "      <th>Ind_ID</th>\n",
              "      <th>Test_date</th>\n",
              "      <th>Cough_symptoms</th>\n",
              "      <th>Fever</th>\n",
              "      <th>Sore_throat</th>\n",
              "      <th>Shortness_of_breath</th>\n",
              "      <th>Headache</th>\n",
              "      <th>Corona</th>\n",
              "      <th>Sex</th>\n",
              "      <th>Known_contact</th>\n",
              "    </tr>\n",
              "  </thead>\n",
              "  <tbody>\n",
              "    <tr>\n",
              "      <th>0</th>\n",
              "      <td>1</td>\n",
              "      <td>11-03-2020</td>\n",
              "      <td>1</td>\n",
              "      <td>0</td>\n",
              "      <td>1</td>\n",
              "      <td>0</td>\n",
              "      <td>0</td>\n",
              "      <td>0</td>\n",
              "      <td>0</td>\n",
              "      <td>0</td>\n",
              "    </tr>\n",
              "    <tr>\n",
              "      <th>1</th>\n",
              "      <td>2</td>\n",
              "      <td>11-03-2020</td>\n",
              "      <td>0</td>\n",
              "      <td>1</td>\n",
              "      <td>0</td>\n",
              "      <td>1</td>\n",
              "      <td>0</td>\n",
              "      <td>0</td>\n",
              "      <td>0</td>\n",
              "      <td>0</td>\n",
              "    </tr>\n",
              "    <tr>\n",
              "      <th>2</th>\n",
              "      <td>3</td>\n",
              "      <td>11-03-2020</td>\n",
              "      <td>0</td>\n",
              "      <td>1</td>\n",
              "      <td>0</td>\n",
              "      <td>1</td>\n",
              "      <td>0</td>\n",
              "      <td>0</td>\n",
              "      <td>0</td>\n",
              "      <td>0</td>\n",
              "    </tr>\n",
              "    <tr>\n",
              "      <th>3</th>\n",
              "      <td>4</td>\n",
              "      <td>11-03-2020</td>\n",
              "      <td>1</td>\n",
              "      <td>0</td>\n",
              "      <td>0</td>\n",
              "      <td>0</td>\n",
              "      <td>0</td>\n",
              "      <td>0</td>\n",
              "      <td>0</td>\n",
              "      <td>0</td>\n",
              "    </tr>\n",
              "    <tr>\n",
              "      <th>4</th>\n",
              "      <td>5</td>\n",
              "      <td>11-03-2020</td>\n",
              "      <td>1</td>\n",
              "      <td>0</td>\n",
              "      <td>0</td>\n",
              "      <td>0</td>\n",
              "      <td>0</td>\n",
              "      <td>0</td>\n",
              "      <td>0</td>\n",
              "      <td>1</td>\n",
              "    </tr>\n",
              "  </tbody>\n",
              "</table>\n",
              "</div>\n",
              "    <div class=\"colab-df-buttons\">\n",
              "\n",
              "  <div class=\"colab-df-container\">\n",
              "    <button class=\"colab-df-convert\" onclick=\"convertToInteractive('df-089ac7a2-76fe-47a4-928b-2bb3b8c69f47')\"\n",
              "            title=\"Convert this dataframe to an interactive table.\"\n",
              "            style=\"display:none;\">\n",
              "\n",
              "  <svg xmlns=\"http://www.w3.org/2000/svg\" height=\"24px\" viewBox=\"0 -960 960 960\">\n",
              "    <path d=\"M120-120v-720h720v720H120Zm60-500h600v-160H180v160Zm220 220h160v-160H400v160Zm0 220h160v-160H400v160ZM180-400h160v-160H180v160Zm440 0h160v-160H620v160ZM180-180h160v-160H180v160Zm440 0h160v-160H620v160Z\"/>\n",
              "  </svg>\n",
              "    </button>\n",
              "\n",
              "  <style>\n",
              "    .colab-df-container {\n",
              "      display:flex;\n",
              "      gap: 12px;\n",
              "    }\n",
              "\n",
              "    .colab-df-convert {\n",
              "      background-color: #E8F0FE;\n",
              "      border: none;\n",
              "      border-radius: 50%;\n",
              "      cursor: pointer;\n",
              "      display: none;\n",
              "      fill: #1967D2;\n",
              "      height: 32px;\n",
              "      padding: 0 0 0 0;\n",
              "      width: 32px;\n",
              "    }\n",
              "\n",
              "    .colab-df-convert:hover {\n",
              "      background-color: #E2EBFA;\n",
              "      box-shadow: 0px 1px 2px rgba(60, 64, 67, 0.3), 0px 1px 3px 1px rgba(60, 64, 67, 0.15);\n",
              "      fill: #174EA6;\n",
              "    }\n",
              "\n",
              "    .colab-df-buttons div {\n",
              "      margin-bottom: 4px;\n",
              "    }\n",
              "\n",
              "    [theme=dark] .colab-df-convert {\n",
              "      background-color: #3B4455;\n",
              "      fill: #D2E3FC;\n",
              "    }\n",
              "\n",
              "    [theme=dark] .colab-df-convert:hover {\n",
              "      background-color: #434B5C;\n",
              "      box-shadow: 0px 1px 3px 1px rgba(0, 0, 0, 0.15);\n",
              "      filter: drop-shadow(0px 1px 2px rgba(0, 0, 0, 0.3));\n",
              "      fill: #FFFFFF;\n",
              "    }\n",
              "  </style>\n",
              "\n",
              "    <script>\n",
              "      const buttonEl =\n",
              "        document.querySelector('#df-089ac7a2-76fe-47a4-928b-2bb3b8c69f47 button.colab-df-convert');\n",
              "      buttonEl.style.display =\n",
              "        google.colab.kernel.accessAllowed ? 'block' : 'none';\n",
              "\n",
              "      async function convertToInteractive(key) {\n",
              "        const element = document.querySelector('#df-089ac7a2-76fe-47a4-928b-2bb3b8c69f47');\n",
              "        const dataTable =\n",
              "          await google.colab.kernel.invokeFunction('convertToInteractive',\n",
              "                                                    [key], {});\n",
              "        if (!dataTable) return;\n",
              "\n",
              "        const docLinkHtml = 'Like what you see? Visit the ' +\n",
              "          '<a target=\"_blank\" href=https://colab.research.google.com/notebooks/data_table.ipynb>data table notebook</a>'\n",
              "          + ' to learn more about interactive tables.';\n",
              "        element.innerHTML = '';\n",
              "        dataTable['output_type'] = 'display_data';\n",
              "        await google.colab.output.renderOutput(dataTable, element);\n",
              "        const docLink = document.createElement('div');\n",
              "        docLink.innerHTML = docLinkHtml;\n",
              "        element.appendChild(docLink);\n",
              "      }\n",
              "    </script>\n",
              "  </div>\n",
              "\n",
              "\n",
              "<div id=\"df-157a389e-4890-4a5e-944c-d937419cb8c7\">\n",
              "  <button class=\"colab-df-quickchart\" onclick=\"quickchart('df-157a389e-4890-4a5e-944c-d937419cb8c7')\"\n",
              "            title=\"Suggest charts.\"\n",
              "            style=\"display:none;\">\n",
              "\n",
              "<svg xmlns=\"http://www.w3.org/2000/svg\" height=\"24px\"viewBox=\"0 0 24 24\"\n",
              "     width=\"24px\">\n",
              "    <g>\n",
              "        <path d=\"M19 3H5c-1.1 0-2 .9-2 2v14c0 1.1.9 2 2 2h14c1.1 0 2-.9 2-2V5c0-1.1-.9-2-2-2zM9 17H7v-7h2v7zm4 0h-2V7h2v10zm4 0h-2v-4h2v4z\"/>\n",
              "    </g>\n",
              "</svg>\n",
              "  </button>\n",
              "\n",
              "<style>\n",
              "  .colab-df-quickchart {\n",
              "    background-color: #E8F0FE;\n",
              "    border: none;\n",
              "    border-radius: 50%;\n",
              "    cursor: pointer;\n",
              "    display: none;\n",
              "    fill: #1967D2;\n",
              "    height: 32px;\n",
              "    padding: 0 0 0 0;\n",
              "    width: 32px;\n",
              "  }\n",
              "\n",
              "  .colab-df-quickchart:hover {\n",
              "    background-color: #E2EBFA;\n",
              "    box-shadow: 0px 1px 2px rgba(60, 64, 67, 0.3), 0px 1px 3px 1px rgba(60, 64, 67, 0.15);\n",
              "    fill: #174EA6;\n",
              "  }\n",
              "\n",
              "  [theme=dark] .colab-df-quickchart {\n",
              "    background-color: #3B4455;\n",
              "    fill: #D2E3FC;\n",
              "  }\n",
              "\n",
              "  [theme=dark] .colab-df-quickchart:hover {\n",
              "    background-color: #434B5C;\n",
              "    box-shadow: 0px 1px 3px 1px rgba(0, 0, 0, 0.15);\n",
              "    filter: drop-shadow(0px 1px 2px rgba(0, 0, 0, 0.3));\n",
              "    fill: #FFFFFF;\n",
              "  }\n",
              "</style>\n",
              "\n",
              "  <script>\n",
              "    async function quickchart(key) {\n",
              "      const charts = await google.colab.kernel.invokeFunction(\n",
              "          'suggestCharts', [key], {});\n",
              "    }\n",
              "    (() => {\n",
              "      let quickchartButtonEl =\n",
              "        document.querySelector('#df-157a389e-4890-4a5e-944c-d937419cb8c7 button');\n",
              "      quickchartButtonEl.style.display =\n",
              "        google.colab.kernel.accessAllowed ? 'block' : 'none';\n",
              "    })();\n",
              "  </script>\n",
              "</div>\n",
              "    </div>\n",
              "  </div>\n"
            ]
          },
          "metadata": {},
          "execution_count": 49
        }
      ],
      "source": [
        "Covid_Test1.head()"
      ],
      "id": "pW1hqR_Anmel"
    },
    {
      "cell_type": "code",
      "execution_count": 50,
      "metadata": {
        "id": "lSAqKvpWtLx7"
      },
      "outputs": [],
      "source": [
        "# 'Cough_symptoms' (TRUE = 1 , FALSE = 0)\n",
        "# 'FEVER' (TRUE = 1 , FALSE = 0)\n",
        "# 'Sore_throat' (TRUE = 1 , FALSE = 0)\n",
        "# 'Shortness_of_breath' (TRUE = 1 , FALSE = 0)\n",
        "# 'Headache' (TRUE = 1 , FALSE = 0)\n",
        "# Corona (Positive =1 , Negative = 0)\n",
        "# Sex (Unknown=0, Female=1, Male=2)\n",
        "# Known_contact (Abroad=0, Contact with confirmed = 1, other = 2)"
      ],
      "id": "lSAqKvpWtLx7"
    },
    {
      "cell_type": "code",
      "execution_count": 51,
      "metadata": {
        "colab": {
          "base_uri": "https://localhost:8080/",
          "height": 674
        },
        "id": "QY6Sebgt7CtL",
        "outputId": "db5a3e18-7233-4dd2-f906-a1d41e3e8adb"
      },
      "outputs": [
        {
          "output_type": "display_data",
          "data": {
            "text/plain": [
              "<Figure size 600x600 with 2 Axes>"
            ],
            "image/png": "[encoded data removed]"
          },
          "metadata": {}
        }
      ],
      "source": [
        "# Select only symptom-related columns for correlation analysis\n",
        "symptom_columns = ['Cough_symptoms', 'Fever', 'Sore_throat', 'Shortness_of_breath', 'Headache','Corona']\n",
        "Covid_test_corr = Covid_Test1[symptom_columns]\n",
        "\n",
        "# Calculate correlation matrix\n",
        "correlation_matrix = Covid_test_corr.corr()\n",
        "\n",
        "# Plot the correlation matrix\n",
        "plt.figure(figsize=(6,6))\n",
        "sns.heatmap(correlation_matrix, annot=True, cmap='coolwarm', center=0)\n",
        "plt.title('Correlation Heatmap of Symptoms')\n",
        "plt.show()"
      ],
      "id": "QY6Sebgt7CtL"
    },
    {
      "cell_type": "markdown",
      "metadata": {
        "id": "dd269171"
      },
      "source": [
        "Insights:\n",
        "\n",
        "Almost all the attributes are moderately corelated with each other but none is highly corelated."
      ],
      "id": "dd269171"
    },
    {
      "cell_type": "code",
      "execution_count": 52,
      "metadata": {
        "colab": {
          "base_uri": "https://localhost:8080/"
        },
        "id": "CSAeeCAD7y2p",
        "outputId": "d3d4bacb-715b-48e9-92ee-ab2dd0d20014"
      },
      "outputs": [
        {
          "output_type": "stream",
          "name": "stdout",
          "text": [
            "               feature       VIF\n",
            "0                  Sex  1.777738\n",
            "1        Known_contact  1.697056\n",
            "2       Cough_symptoms  1.435742\n",
            "3                Fever  1.428048\n",
            "4  Shortness_of_breath  1.323632\n",
            "5             Headache  1.247941\n",
            "6          Sore_throat  1.166758\n"
          ]
        }
      ],
      "source": [
        "# First Import variance_inflation_factor (VIF) from statsmodels\n",
        "\n",
        "from statsmodels.stats.outliers_influence import variance_inflation_factor\n",
        "data = Covid_Test1[['Cough_symptoms','Fever','Sore_throat','Shortness_of_breath','Headache','Sex','Known_contact']]\n",
        "\n",
        "# VIF dataframe\n",
        "vif_data = pd.DataFrame()\n",
        "vif_data[\"feature\"] = data.columns\n",
        "\n",
        "# calculating VIF for each feature\n",
        "vif_data[\"VIF\"] = [variance_inflation_factor(data.values, i)\n",
        "                          for i in range(len(data.columns))]\n",
        "\n",
        "vif_data_sorted = vif_data.sort_values(by=\"VIF\", ascending=False).reset_index(drop=True)\n",
        "print(vif_data_sorted)"
      ],
      "id": "CSAeeCAD7y2p"
    },
    {
      "cell_type": "markdown",
      "metadata": {
        "id": "EwUemlok8Axa"
      },
      "source": [
        "Insights\n",
        "\n",
        "The default VIF cutoff value is 5, only variables with a VIF less than 5 will be included in the model.\n",
        "\n",
        "VIF <= 5 is considered as considerable collinearity\n",
        "\n",
        "All the VIF value is less than 5. We can go with all the features"
      ],
      "id": "EwUemlok8Axa"
    },
    {
      "cell_type": "code",
      "execution_count": 53,
      "metadata": {
        "id": "Mj5MNAhm96ET"
      },
      "outputs": [],
      "source": [
        "Covid_Test1['Test_date'] = pd.to_datetime(Covid_Test1[\"Test_date\"] , format = '%d-%m-%Y')"
      ],
      "id": "Mj5MNAhm96ET"
    },
    {
      "cell_type": "code",
      "execution_count": 54,
      "metadata": {
        "id": "KEyF6dtBvfNW"
      },
      "outputs": [],
      "source": [
        "# Breaking the data according to the date\n",
        "# Set the breakpoint date\n",
        "break_date = '2020-04-16'\n",
        "# Split data based on date ranges\n",
        "df_train  = Covid_Test1[Covid_Test1['Test_date'] <= break_date]\n",
        "df_test   = Covid_Test1[Covid_Test1['Test_date'] > break_date]"
      ],
      "id": "KEyF6dtBvfNW"
    },
    {
      "cell_type": "code",
      "execution_count": 55,
      "metadata": {
        "colab": {
          "base_uri": "https://localhost:8080/",
          "height": 206
        },
        "id": "XUJp41QS0DKa",
        "outputId": "84fb368a-3060-4f60-de01-29210ec038c8"
      },
      "outputs": [
        {
          "output_type": "execute_result",
          "data": {
            "text/plain": [
              "        Ind_ID  Test_date  Cough_symptoms  Fever  Sore_throat  \\\n",
              "172322  172323 2020-04-16               0      0            0   \n",
              "172323  172324 2020-04-16               0      0            0   \n",
              "172324  172325 2020-04-16               0      0            0   \n",
              "172325  172326 2020-04-16               0      0            0   \n",
              "172326  172327 2020-04-16               0      0            0   \n",
              "\n",
              "        Shortness_of_breath  Headache  Corona  Sex  Known_contact  \n",
              "172322                    0         0       0    1              2  \n",
              "172323                    0         0       0    0              2  \n",
              "172324                    0         0       0    0              2  \n",
              "172325                    0         0       0    1              2  \n",
              "172326                    0         0       0    0              2  "
            ],
            "text/html": [
              "\n",
              "  <div id=\"df-dc54de75-ebd0-4345-8698-17bfffd59645\" class=\"colab-df-container\">\n",
              "    <div>\n",
              "<style scoped>\n",
              "    .dataframe tbody tr th:only-of-type {\n",
              "        vertical-align: middle;\n",
              "    }\n",
              "\n",
              "    .dataframe tbody tr th {\n",
              "        vertical-align: top;\n",
              "    }\n",
              "\n",
              "    .dataframe thead th {\n",
              "        text-align: right;\n",
              "    }\n",
              "</style>\n",
              "<table border=\"1\" class=\"dataframe\">\n",
              "  <thead>\n",
              "    <tr style=\"text-align: right;\">\n",
              "      <th></th>\n",
              "      <th>Ind_ID</th>\n",
              "      <th>Test_date</th>\n",
              "      <th>Cough_symptoms</th>\n",
              "      <th>Fever</th>\n",
              "      <th>Sore_throat</th>\n",
              "      <th>Shortness_of_breath</th>\n",
              "      <th>Headache</th>\n",
              "      <th>Corona</th>\n",
              "      <th>Sex</th>\n",
              "      <th>Known_contact</th>\n",
              "    </tr>\n",
              "  </thead>\n",
              "  <tbody>\n",
              "    <tr>\n",
              "      <th>172322</th>\n",
              "      <td>172323</td>\n",
              "      <td>2020-04-16</td>\n",
              "      <td>0</td>\n",
              "      <td>0</td>\n",
              "      <td>0</td>\n",
              "      <td>0</td>\n",
              "      <td>0</td>\n",
              "      <td>0</td>\n",
              "      <td>1</td>\n",
              "      <td>2</td>\n",
              "    </tr>\n",
              "    <tr>\n",
              "      <th>172323</th>\n",
              "      <td>172324</td>\n",
              "      <td>2020-04-16</td>\n",
              "      <td>0</td>\n",
              "      <td>0</td>\n",
              "      <td>0</td>\n",
              "      <td>0</td>\n",
              "      <td>0</td>\n",
              "      <td>0</td>\n",
              "      <td>0</td>\n",
              "      <td>2</td>\n",
              "    </tr>\n",
              "    <tr>\n",
              "      <th>172324</th>\n",
              "      <td>172325</td>\n",
              "      <td>2020-04-16</td>\n",
              "      <td>0</td>\n",
              "      <td>0</td>\n",
              "      <td>0</td>\n",
              "      <td>0</td>\n",
              "      <td>0</td>\n",
              "      <td>0</td>\n",
              "      <td>0</td>\n",
              "      <td>2</td>\n",
              "    </tr>\n",
              "    <tr>\n",
              "      <th>172325</th>\n",
              "      <td>172326</td>\n",
              "      <td>2020-04-16</td>\n",
              "      <td>0</td>\n",
              "      <td>0</td>\n",
              "      <td>0</td>\n",
              "      <td>0</td>\n",
              "      <td>0</td>\n",
              "      <td>0</td>\n",
              "      <td>1</td>\n",
              "      <td>2</td>\n",
              "    </tr>\n",
              "    <tr>\n",
              "      <th>172326</th>\n",
              "      <td>172327</td>\n",
              "      <td>2020-04-16</td>\n",
              "      <td>0</td>\n",
              "      <td>0</td>\n",
              "      <td>0</td>\n",
              "      <td>0</td>\n",
              "      <td>0</td>\n",
              "      <td>0</td>\n",
              "      <td>0</td>\n",
              "      <td>2</td>\n",
              "    </tr>\n",
              "  </tbody>\n",
              "</table>\n",
              "</div>\n",
              "    <div class=\"colab-df-buttons\">\n",
              "\n",
              "  <div class=\"colab-df-container\">\n",
              "    <button class=\"colab-df-convert\" onclick=\"convertToInteractive('df-dc54de75-ebd0-4345-8698-17bfffd59645')\"\n",
              "            title=\"Convert this dataframe to an interactive table.\"\n",
              "            style=\"display:none;\">\n",
              "\n",
              "  <svg xmlns=\"http://www.w3.org/2000/svg\" height=\"24px\" viewBox=\"0 -960 960 960\">\n",
              "    <path d=\"M120-120v-720h720v720H120Zm60-500h600v-160H180v160Zm220 220h160v-160H400v160Zm0 220h160v-160H400v160ZM180-400h160v-160H180v160Zm440 0h160v-160H620v160ZM180-180h160v-160H180v160Zm440 0h160v-160H620v160Z\"/>\n",
              "  </svg>\n",
              "    </button>\n",
              "\n",
              "  <style>\n",
              "    .colab-df-container {\n",
              "      display:flex;\n",
              "      gap: 12px;\n",
              "    }\n",
              "\n",
              "    .colab-df-convert {\n",
              "      background-color: #E8F0FE;\n",
              "      border: none;\n",
              "      border-radius: 50%;\n",
              "      cursor: pointer;\n",
              "      display: none;\n",
              "      fill: #1967D2;\n",
              "      height: 32px;\n",
              "      padding: 0 0 0 0;\n",
              "      width: 32px;\n",
              "    }\n",
              "\n",
              "    .colab-df-convert:hover {\n",
              "      background-color: #E2EBFA;\n",
              "      box-shadow: 0px 1px 2px rgba(60, 64, 67, 0.3), 0px 1px 3px 1px rgba(60, 64, 67, 0.15);\n",
              "      fill: #174EA6;\n",
              "    }\n",
              "\n",
              "    .colab-df-buttons div {\n",
              "      margin-bottom: 4px;\n",
              "    }\n",
              "\n",
              "    [theme=dark] .colab-df-convert {\n",
              "      background-color: #3B4455;\n",
              "      fill: #D2E3FC;\n",
              "    }\n",
              "\n",
              "    [theme=dark] .colab-df-convert:hover {\n",
              "      background-color: #434B5C;\n",
              "      box-shadow: 0px 1px 3px 1px rgba(0, 0, 0, 0.15);\n",
              "      filter: drop-shadow(0px 1px 2px rgba(0, 0, 0, 0.3));\n",
              "      fill: #FFFFFF;\n",
              "    }\n",
              "  </style>\n",
              "\n",
              "    <script>\n",
              "      const buttonEl =\n",
              "        document.querySelector('#df-dc54de75-ebd0-4345-8698-17bfffd59645 button.colab-df-convert');\n",
              "      buttonEl.style.display =\n",
              "        google.colab.kernel.accessAllowed ? 'block' : 'none';\n",
              "\n",
              "      async function convertToInteractive(key) {\n",
              "        const element = document.querySelector('#df-dc54de75-ebd0-4345-8698-17bfffd59645');\n",
              "        const dataTable =\n",
              "          await google.colab.kernel.invokeFunction('convertToInteractive',\n",
              "                                                    [key], {});\n",
              "        if (!dataTable) return;\n",
              "\n",
              "        const docLinkHtml = 'Like what you see? Visit the ' +\n",
              "          '<a target=\"_blank\" href=https://colab.research.google.com/notebooks/data_table.ipynb>data table notebook</a>'\n",
              "          + ' to learn more about interactive tables.';\n",
              "        element.innerHTML = '';\n",
              "        dataTable['output_type'] = 'display_data';\n",
              "        await google.colab.output.renderOutput(dataTable, element);\n",
              "        const docLink = document.createElement('div');\n",
              "        docLink.innerHTML = docLinkHtml;\n",
              "        element.appendChild(docLink);\n",
              "      }\n",
              "    </script>\n",
              "  </div>\n",
              "\n",
              "\n",
              "<div id=\"df-1f2090ee-7bdc-47d4-a2b5-c040ce7ecfe5\">\n",
              "  <button class=\"colab-df-quickchart\" onclick=\"quickchart('df-1f2090ee-7bdc-47d4-a2b5-c040ce7ecfe5')\"\n",
              "            title=\"Suggest charts.\"\n",
              "            style=\"display:none;\">\n",
              "\n",
              "<svg xmlns=\"http://www.w3.org/2000/svg\" height=\"24px\"viewBox=\"0 0 24 24\"\n",
              "     width=\"24px\">\n",
              "    <g>\n",
              "        <path d=\"M19 3H5c-1.1 0-2 .9-2 2v14c0 1.1.9 2 2 2h14c1.1 0 2-.9 2-2V5c0-1.1-.9-2-2-2zM9 17H7v-7h2v7zm4 0h-2V7h2v10zm4 0h-2v-4h2v4z\"/>\n",
              "    </g>\n",
              "</svg>\n",
              "  </button>\n",
              "\n",
              "<style>\n",
              "  .colab-df-quickchart {\n",
              "    background-color: #E8F0FE;\n",
              "    border: none;\n",
              "    border-radius: 50%;\n",
              "    cursor: pointer;\n",
              "    display: none;\n",
              "    fill: #1967D2;\n",
              "    height: 32px;\n",
              "    padding: 0 0 0 0;\n",
              "    width: 32px;\n",
              "  }\n",
              "\n",
              "  .colab-df-quickchart:hover {\n",
              "    background-color: #E2EBFA;\n",
              "    box-shadow: 0px 1px 2px rgba(60, 64, 67, 0.3), 0px 1px 3px 1px rgba(60, 64, 67, 0.15);\n",
              "    fill: #174EA6;\n",
              "  }\n",
              "\n",
              "  [theme=dark] .colab-df-quickchart {\n",
              "    background-color: #3B4455;\n",
              "    fill: #D2E3FC;\n",
              "  }\n",
              "\n",
              "  [theme=dark] .colab-df-quickchart:hover {\n",
              "    background-color: #434B5C;\n",
              "    box-shadow: 0px 1px 3px 1px rgba(0, 0, 0, 0.15);\n",
              "    filter: drop-shadow(0px 1px 2px rgba(0, 0, 0, 0.3));\n",
              "    fill: #FFFFFF;\n",
              "  }\n",
              "</style>\n",
              "\n",
              "  <script>\n",
              "    async function quickchart(key) {\n",
              "      const charts = await google.colab.kernel.invokeFunction(\n",
              "          'suggestCharts', [key], {});\n",
              "    }\n",
              "    (() => {\n",
              "      let quickchartButtonEl =\n",
              "        document.querySelector('#df-1f2090ee-7bdc-47d4-a2b5-c040ce7ecfe5 button');\n",
              "      quickchartButtonEl.style.display =\n",
              "        google.colab.kernel.accessAllowed ? 'block' : 'none';\n",
              "    })();\n",
              "  </script>\n",
              "</div>\n",
              "    </div>\n",
              "  </div>\n"
            ]
          },
          "metadata": {},
          "execution_count": 55
        }
      ],
      "source": [
        "# Data from 11th march 2020 to 15th april 2020\n",
        "df_train.tail()"
      ],
      "id": "XUJp41QS0DKa"
    },
    {
      "cell_type": "code",
      "execution_count": 56,
      "metadata": {
        "colab": {
          "base_uri": "https://localhost:8080/",
          "height": 206
        },
        "id": "EoUGY6cyyCT1",
        "outputId": "a1d911c3-2e22-481d-bc34-e1aabd9f432f"
      },
      "outputs": [
        {
          "output_type": "execute_result",
          "data": {
            "text/plain": [
              "        Ind_ID  Test_date  Cough_symptoms  Fever  Sore_throat  \\\n",
              "172327  172328 2020-04-17               0      0            0   \n",
              "172328  172329 2020-04-17               0      0            0   \n",
              "172329  172330 2020-04-17               0      0            0   \n",
              "172330  172331 2020-04-17               0      0            0   \n",
              "172331  172332 2020-04-17               0      0            0   \n",
              "\n",
              "        Shortness_of_breath  Headache  Corona  Sex  Known_contact  \n",
              "172327                    0         0       0    1              2  \n",
              "172328                    0         0       0    0              2  \n",
              "172329                    0         0       0    0              2  \n",
              "172330                    0         0       0    1              2  \n",
              "172331                    0         0       0    1              2  "
            ],
            "text/html": [
              "\n",
              "  <div id=\"df-6c848f36-9078-4d6f-950e-62200d6576bf\" class=\"colab-df-container\">\n",
              "    <div>\n",
              "<style scoped>\n",
              "    .dataframe tbody tr th:only-of-type {\n",
              "        vertical-align: middle;\n",
              "    }\n",
              "\n",
              "    .dataframe tbody tr th {\n",
              "        vertical-align: top;\n",
              "    }\n",
              "\n",
              "    .dataframe thead th {\n",
              "        text-align: right;\n",
              "    }\n",
              "</style>\n",
              "<table border=\"1\" class=\"dataframe\">\n",
              "  <thead>\n",
              "    <tr style=\"text-align: right;\">\n",
              "      <th></th>\n",
              "      <th>Ind_ID</th>\n",
              "      <th>Test_date</th>\n",
              "      <th>Cough_symptoms</th>\n",
              "      <th>Fever</th>\n",
              "      <th>Sore_throat</th>\n",
              "      <th>Shortness_of_breath</th>\n",
              "      <th>Headache</th>\n",
              "      <th>Corona</th>\n",
              "      <th>Sex</th>\n",
              "      <th>Known_contact</th>\n",
              "    </tr>\n",
              "  </thead>\n",
              "  <tbody>\n",
              "    <tr>\n",
              "      <th>172327</th>\n",
              "      <td>172328</td>\n",
              "      <td>2020-04-17</td>\n",
              "      <td>0</td>\n",
              "      <td>0</td>\n",
              "      <td>0</td>\n",
              "      <td>0</td>\n",
              "      <td>0</td>\n",
              "      <td>0</td>\n",
              "      <td>1</td>\n",
              "      <td>2</td>\n",
              "    </tr>\n",
              "    <tr>\n",
              "      <th>172328</th>\n",
              "      <td>172329</td>\n",
              "      <td>2020-04-17</td>\n",
              "      <td>0</td>\n",
              "      <td>0</td>\n",
              "      <td>0</td>\n",
              "      <td>0</td>\n",
              "      <td>0</td>\n",
              "      <td>0</td>\n",
              "      <td>0</td>\n",
              "      <td>2</td>\n",
              "    </tr>\n",
              "    <tr>\n",
              "      <th>172329</th>\n",
              "      <td>172330</td>\n",
              "      <td>2020-04-17</td>\n",
              "      <td>0</td>\n",
              "      <td>0</td>\n",
              "      <td>0</td>\n",
              "      <td>0</td>\n",
              "      <td>0</td>\n",
              "      <td>0</td>\n",
              "      <td>0</td>\n",
              "      <td>2</td>\n",
              "    </tr>\n",
              "    <tr>\n",
              "      <th>172330</th>\n",
              "      <td>172331</td>\n",
              "      <td>2020-04-17</td>\n",
              "      <td>0</td>\n",
              "      <td>0</td>\n",
              "      <td>0</td>\n",
              "      <td>0</td>\n",
              "      <td>0</td>\n",
              "      <td>0</td>\n",
              "      <td>1</td>\n",
              "      <td>2</td>\n",
              "    </tr>\n",
              "    <tr>\n",
              "      <th>172331</th>\n",
              "      <td>172332</td>\n",
              "      <td>2020-04-17</td>\n",
              "      <td>0</td>\n",
              "      <td>0</td>\n",
              "      <td>0</td>\n",
              "      <td>0</td>\n",
              "      <td>0</td>\n",
              "      <td>0</td>\n",
              "      <td>1</td>\n",
              "      <td>2</td>\n",
              "    </tr>\n",
              "  </tbody>\n",
              "</table>\n",
              "</div>\n",
              "    <div class=\"colab-df-buttons\">\n",
              "\n",
              "  <div class=\"colab-df-container\">\n",
              "    <button class=\"colab-df-convert\" onclick=\"convertToInteractive('df-6c848f36-9078-4d6f-950e-62200d6576bf')\"\n",
              "            title=\"Convert this dataframe to an interactive table.\"\n",
              "            style=\"display:none;\">\n",
              "\n",
              "  <svg xmlns=\"http://www.w3.org/2000/svg\" height=\"24px\" viewBox=\"0 -960 960 960\">\n",
              "    <path d=\"M120-120v-720h720v720H120Zm60-500h600v-160H180v160Zm220 220h160v-160H400v160Zm0 220h160v-160H400v160ZM180-400h160v-160H180v160Zm440 0h160v-160H620v160ZM180-180h160v-160H180v160Zm440 0h160v-160H620v160Z\"/>\n",
              "  </svg>\n",
              "    </button>\n",
              "\n",
              "  <style>\n",
              "    .colab-df-container {\n",
              "      display:flex;\n",
              "      gap: 12px;\n",
              "    }\n",
              "\n",
              "    .colab-df-convert {\n",
              "      background-color: #E8F0FE;\n",
              "      border: none;\n",
              "      border-radius: 50%;\n",
              "      cursor: pointer;\n",
              "      display: none;\n",
              "      fill: #1967D2;\n",
              "      height: 32px;\n",
              "      padding: 0 0 0 0;\n",
              "      width: 32px;\n",
              "    }\n",
              "\n",
              "    .colab-df-convert:hover {\n",
              "      background-color: #E2EBFA;\n",
              "      box-shadow: 0px 1px 2px rgba(60, 64, 67, 0.3), 0px 1px 3px 1px rgba(60, 64, 67, 0.15);\n",
              "      fill: #174EA6;\n",
              "    }\n",
              "\n",
              "    .colab-df-buttons div {\n",
              "      margin-bottom: 4px;\n",
              "    }\n",
              "\n",
              "    [theme=dark] .colab-df-convert {\n",
              "      background-color: #3B4455;\n",
              "      fill: #D2E3FC;\n",
              "    }\n",
              "\n",
              "    [theme=dark] .colab-df-convert:hover {\n",
              "      background-color: #434B5C;\n",
              "      box-shadow: 0px 1px 3px 1px rgba(0, 0, 0, 0.15);\n",
              "      filter: drop-shadow(0px 1px 2px rgba(0, 0, 0, 0.3));\n",
              "      fill: #FFFFFF;\n",
              "    }\n",
              "  </style>\n",
              "\n",
              "    <script>\n",
              "      const buttonEl =\n",
              "        document.querySelector('#df-6c848f36-9078-4d6f-950e-62200d6576bf button.colab-df-convert');\n",
              "      buttonEl.style.display =\n",
              "        google.colab.kernel.accessAllowed ? 'block' : 'none';\n",
              "\n",
              "      async function convertToInteractive(key) {\n",
              "        const element = document.querySelector('#df-6c848f36-9078-4d6f-950e-62200d6576bf');\n",
              "        const dataTable =\n",
              "          await google.colab.kernel.invokeFunction('convertToInteractive',\n",
              "                                                    [key], {});\n",
              "        if (!dataTable) return;\n",
              "\n",
              "        const docLinkHtml = 'Like what you see? Visit the ' +\n",
              "          '<a target=\"_blank\" href=https://colab.research.google.com/notebooks/data_table.ipynb>data table notebook</a>'\n",
              "          + ' to learn more about interactive tables.';\n",
              "        element.innerHTML = '';\n",
              "        dataTable['output_type'] = 'display_data';\n",
              "        await google.colab.output.renderOutput(dataTable, element);\n",
              "        const docLink = document.createElement('div');\n",
              "        docLink.innerHTML = docLinkHtml;\n",
              "        element.appendChild(docLink);\n",
              "      }\n",
              "    </script>\n",
              "  </div>\n",
              "\n",
              "\n",
              "<div id=\"df-08a1c81e-d3eb-4365-b7f1-fac88198b12d\">\n",
              "  <button class=\"colab-df-quickchart\" onclick=\"quickchart('df-08a1c81e-d3eb-4365-b7f1-fac88198b12d')\"\n",
              "            title=\"Suggest charts.\"\n",
              "            style=\"display:none;\">\n",
              "\n",
              "<svg xmlns=\"http://www.w3.org/2000/svg\" height=\"24px\"viewBox=\"0 0 24 24\"\n",
              "     width=\"24px\">\n",
              "    <g>\n",
              "        <path d=\"M19 3H5c-1.1 0-2 .9-2 2v14c0 1.1.9 2 2 2h14c1.1 0 2-.9 2-2V5c0-1.1-.9-2-2-2zM9 17H7v-7h2v7zm4 0h-2V7h2v10zm4 0h-2v-4h2v4z\"/>\n",
              "    </g>\n",
              "</svg>\n",
              "  </button>\n",
              "\n",
              "<style>\n",
              "  .colab-df-quickchart {\n",
              "    background-color: #E8F0FE;\n",
              "    border: none;\n",
              "    border-radius: 50%;\n",
              "    cursor: pointer;\n",
              "    display: none;\n",
              "    fill: #1967D2;\n",
              "    height: 32px;\n",
              "    padding: 0 0 0 0;\n",
              "    width: 32px;\n",
              "  }\n",
              "\n",
              "  .colab-df-quickchart:hover {\n",
              "    background-color: #E2EBFA;\n",
              "    box-shadow: 0px 1px 2px rgba(60, 64, 67, 0.3), 0px 1px 3px 1px rgba(60, 64, 67, 0.15);\n",
              "    fill: #174EA6;\n",
              "  }\n",
              "\n",
              "  [theme=dark] .colab-df-quickchart {\n",
              "    background-color: #3B4455;\n",
              "    fill: #D2E3FC;\n",
              "  }\n",
              "\n",
              "  [theme=dark] .colab-df-quickchart:hover {\n",
              "    background-color: #434B5C;\n",
              "    box-shadow: 0px 1px 3px 1px rgba(0, 0, 0, 0.15);\n",
              "    filter: drop-shadow(0px 1px 2px rgba(0, 0, 0, 0.3));\n",
              "    fill: #FFFFFF;\n",
              "  }\n",
              "</style>\n",
              "\n",
              "  <script>\n",
              "    async function quickchart(key) {\n",
              "      const charts = await google.colab.kernel.invokeFunction(\n",
              "          'suggestCharts', [key], {});\n",
              "    }\n",
              "    (() => {\n",
              "      let quickchartButtonEl =\n",
              "        document.querySelector('#df-08a1c81e-d3eb-4365-b7f1-fac88198b12d button');\n",
              "      quickchartButtonEl.style.display =\n",
              "        google.colab.kernel.accessAllowed ? 'block' : 'none';\n",
              "    })();\n",
              "  </script>\n",
              "</div>\n",
              "    </div>\n",
              "  </div>\n"
            ]
          },
          "metadata": {},
          "execution_count": 56
        }
      ],
      "source": [
        "# Data greater than 16th april 2020\n",
        "df_test.head()"
      ],
      "id": "EoUGY6cyyCT1"
    },
    {
      "cell_type": "code",
      "execution_count": 57,
      "metadata": {
        "id": "1d70ab2a"
      },
      "outputs": [],
      "source": [
        "from sklearn.model_selection import train_test_split\n",
        "from sklearn.preprocessing import StandardScaler"
      ],
      "id": "1d70ab2a"
    },
    {
      "cell_type": "markdown",
      "metadata": {
        "id": "PnUPvNw3-jgJ"
      },
      "source": [
        "Separating dataset into Training set, Test Set and Validation set\n"
      ],
      "id": "PnUPvNw3-jgJ"
    },
    {
      "cell_type": "code",
      "execution_count": 59,
      "metadata": {
        "id": "7b067300"
      },
      "outputs": [],
      "source": [
        "# dropping column Test_date and Outcome variable(Corona) column , and storing it to X_train\n",
        "X_train = df_train.drop(columns = ['Ind_ID','Test_date','Corona'],axis = 1)\n",
        "\n",
        "# storing outcome variable in y_train.\n",
        "y_train = df_train['Corona']"
      ],
      "id": "7b067300"
    },
    {
      "cell_type": "code",
      "execution_count": 60,
      "metadata": {
        "id": "OPZXvCXfocTa"
      },
      "outputs": [],
      "source": [
        "# dropping Test_date column and Outcome variable(Corona) column from df_test and storing it to X_test.\n",
        "X_test = df_test.drop(columns = ['Ind_ID','Test_date','Corona'],axis=1)\n",
        "\n",
        "# storing Outcome variable test Set data into y_test.\n",
        "y_test = df_test['Corona']"
      ],
      "id": "OPZXvCXfocTa"
    },
    {
      "cell_type": "code",
      "execution_count": 61,
      "metadata": {
        "id": "Bj-Q6ESL_KY0"
      },
      "outputs": [],
      "source": [
        "# We have to divide X_train , y_train into Training Set and Validation in the ratio 4:1 which means 20%.\n",
        "\n",
        "from sklearn.model_selection import train_test_split\n",
        "X_train, X_val, y_train, y_val = train_test_split(X_train, y_train, test_size=0.20, random_state= 42)"
      ],
      "id": "Bj-Q6ESL_KY0"
    },
    {
      "cell_type": "code",
      "execution_count": 62,
      "metadata": {
        "colab": {
          "base_uri": "https://localhost:8080/"
        },
        "id": "c_VE4f_A_KV3",
        "outputId": "db7bbf2d-c9c3-4bae-c6b1-dd80132e6137"
      },
      "outputs": [
        {
          "output_type": "stream",
          "name": "stdout",
          "text": [
            "X_train shape: (135826, 7)\n",
            "y_train shape: (135826,)\n",
            "X_test shape: (105173, 7)\n",
            "y_test shape: (105173,)\n",
            "X_val shape: (33957, 7)\n",
            "y val shape: (33957,)\n"
          ]
        }
      ],
      "source": [
        "# Training Set\n",
        "print(\"X_train shape: {}\".format(X_train.shape))\n",
        "print(\"y_train shape: {}\".format(y_train.shape))\n",
        "\n",
        "# Test Set\n",
        "print(\"X_test shape: {}\".format(X_test.shape))\n",
        "print(\"y_test shape: {}\".format(y_test.shape))\n",
        "\n",
        "# Validation Set\n",
        "print(\"X_val shape: {}\".format(X_val.shape))\n",
        "print(\"y val shape: {}\".format(y_val.shape))"
      ],
      "id": "c_VE4f_A_KV3"
    },
    {
      "cell_type": "code",
      "execution_count": 63,
      "metadata": {
        "id": "9jxHd8fx_KTN"
      },
      "outputs": [],
      "source": [
        "# performing transformation of data.\n",
        "\n",
        "from sklearn.preprocessing import StandardScaler\n",
        "sc = StandardScaler()\n",
        "X_train=sc.fit_transform(X_train)\n",
        "X_test=sc.transform(X_test)"
      ],
      "id": "9jxHd8fx_KTN"
    },
    {
      "cell_type": "markdown",
      "metadata": {
        "id": "pDPkdEur_n1f"
      },
      "source": [
        "#**Machine learning Algorithm**"
      ],
      "id": "pDPkdEur_n1f"
    },
    {
      "cell_type": "code",
      "source": [
        "from sklearn.metrics import classification_report, accuracy_score\n",
        "from imblearn.over_sampling import SMOTE\n",
        "\n",
        "# Apply SMOTE to oversample the minority class\n",
        "smote = SMOTE(random_state=42)\n",
        "X_train_resampled, y_train_resampled = smote.fit_resample(X_train, y_train)"
      ],
      "metadata": {
        "id": "0bse6iOfzzcj"
      },
      "id": "0bse6iOfzzcj",
      "execution_count": 64,
      "outputs": []
    },
    {
      "cell_type": "code",
      "source": [
        "from sklearn.ensemble import RandomForestClassifier\n",
        "# Initialize Random Forest model\n",
        "rf_model = RandomForestClassifier(n_estimators=100, random_state=42)\n",
        "\n",
        "# Train the model on the resampled training data\n",
        "rf_model.fit(X_train_resampled, y_train_resampled)\n",
        "\n",
        "# Make predictions on the test set\n",
        "y_pred = rf_model.predict(X_test)\n",
        "\n",
        "# Calculate accuracy score\n",
        "accuracy = accuracy_score(y_test, y_pred)\n",
        "\n",
        "# Print classification report and accuracy score\n",
        "print(\"Classification Report RandomForestClassifier:\")\n",
        "print(classification_report(y_test, y_pred))\n",
        "print(\"Accuracy Score:\", accuracy)"
      ],
      "metadata": {
        "colab": {
          "base_uri": "https://localhost:8080/"
        },
        "id": "9ofPeFJRA3l3",
        "outputId": "8080000d-51a2-449f-bdb7-f9cf589a2cf7"
      },
      "id": "9ofPeFJRA3l3",
      "execution_count": 78,
      "outputs": [
        {
          "output_type": "stream",
          "name": "stdout",
          "text": [
            "Classification Report RandomForestClassifier:\n",
            "              precision    recall  f1-score   support\n",
            "\n",
            "           0       1.00      0.95      0.98    105156\n",
            "           1       0.00      0.47      0.00        17\n",
            "\n",
            "    accuracy                           0.95    105173\n",
            "   macro avg       0.50      0.71      0.49    105173\n",
            "weighted avg       1.00      0.95      0.98    105173\n",
            "\n",
            "Accuracy Score: 0.9527920664048758\n"
          ]
        }
      ]
    },
    {
      "cell_type": "code",
      "execution_count": 79,
      "metadata": {
        "colab": {
          "base_uri": "https://localhost:8080/"
        },
        "id": "EOAkjZM4rSPG",
        "outputId": "c97efe34-a2d1-42d2-c48c-89ca4bc39cc2"
      },
      "outputs": [
        {
          "output_type": "stream",
          "name": "stdout",
          "text": [
            "Classification Report LogisticRegression:\n",
            "              precision    recall  f1-score   support\n",
            "\n",
            "           0       1.00      0.94      0.97    105156\n",
            "           1       0.00      0.59      0.00        17\n",
            "\n",
            "    accuracy                           0.94    105173\n",
            "   macro avg       0.50      0.77      0.49    105173\n",
            "weighted avg       1.00      0.94      0.97    105173\n",
            "\n",
            "Accuracy Score: 0.9435311344166278\n"
          ]
        }
      ],
      "source": [
        "from sklearn.linear_model import LogisticRegression\n",
        "\n",
        "# Train a Logistic Regression model\n",
        "logreg_model = LogisticRegression(random_state=42)\n",
        "logreg_model.fit(X_train_resampled, y_train_resampled)\n",
        "\n",
        "# Make predictions on the test set\n",
        "y_pred = logreg_model.predict(X_test)\n",
        "\n",
        "# Calculate accuracy score\n",
        "accuracy = accuracy_score(y_test, y_pred)\n",
        "\n",
        "# Print classification report and accuracy score\n",
        "print(\"Classification Report LogisticRegression:\")\n",
        "print(classification_report(y_test, y_pred))\n",
        "\n",
        "print(\"Accuracy Score:\", accuracy)"
      ],
      "id": "EOAkjZM4rSPG"
    },
    {
      "cell_type": "code",
      "execution_count": 80,
      "metadata": {
        "colab": {
          "base_uri": "https://localhost:8080/"
        },
        "id": "1syjF4KF4evX",
        "outputId": "062edaf5-d55c-432b-90fa-376cb2c5b94c"
      },
      "outputs": [
        {
          "output_type": "stream",
          "name": "stdout",
          "text": [
            "Classification Report DecisionTreeClassifier:\n",
            "              precision    recall  f1-score   support\n",
            "\n",
            "           0       1.00      0.95      0.98    105156\n",
            "           1       0.00      0.47      0.00        17\n",
            "\n",
            "    accuracy                           0.95    105173\n",
            "   macro avg       0.50      0.71      0.49    105173\n",
            "weighted avg       1.00      0.95      0.98    105173\n",
            "\n",
            "Accuracy Score: 0.9527825582611507\n"
          ]
        }
      ],
      "source": [
        "from sklearn.tree import DecisionTreeClassifier\n",
        "\n",
        "# Initialize Decision Tree model\n",
        "dt_model = DecisionTreeClassifier(random_state=42)\n",
        "\n",
        "# Train the model on the resampled training data\n",
        "dt_model.fit(X_train_resampled, y_train_resampled)\n",
        "\n",
        "# Make predictions on the test set\n",
        "y_pred = dt_model.predict(X_test)\n",
        "\n",
        "# Calculate accuracy score\n",
        "accuracy = accuracy_score(y_test, y_pred)\n",
        "\n",
        "# Print classification report and accuracy score\n",
        "print(\"Classification Report DecisionTreeClassifier:\")\n",
        "print(classification_report(y_test, y_pred))\n",
        "print(\"Accuracy Score:\", accuracy)"
      ],
      "id": "1syjF4KF4evX"
    },
    {
      "cell_type": "code",
      "execution_count": 81,
      "metadata": {
        "colab": {
          "base_uri": "https://localhost:8080/"
        },
        "id": "pFmXYGp76Y9r",
        "outputId": "21591b94-b2d6-4aab-dff8-ad2ae19fe127"
      },
      "outputs": [
        {
          "output_type": "stream",
          "name": "stdout",
          "text": [
            "Classification Report SVC:\n",
            "              precision    recall  f1-score   support\n",
            "\n",
            "           0       1.00      0.94      0.97    105156\n",
            "           1       0.00      0.53      0.00        17\n",
            "\n",
            "    accuracy                           0.94    105173\n",
            "   macro avg       0.50      0.73      0.49    105173\n",
            "weighted avg       1.00      0.94      0.97    105173\n",
            "\n",
            "Accuracy Score: 0.9392429615966075\n"
          ]
        }
      ],
      "source": [
        "from sklearn.svm import SVC\n",
        "\n",
        "# Initialize SVM model\n",
        "svm_model = SVC()\n",
        "\n",
        "# Train the model on the resampled training data\n",
        "svm_model.fit(X_train_resampled, y_train_resampled)\n",
        "\n",
        "# Make predictions on the test set\n",
        "y_pred = svm_model.predict(X_test)\n",
        "\n",
        "# Calculate accuracy score\n",
        "accuracy = accuracy_score(y_test, y_pred)\n",
        "\n",
        "# Print classification report and accuracy score\n",
        "print(\"Classification Report SVC:\")\n",
        "print(classification_report(y_test, y_pred))\n",
        "print(\"Accuracy Score:\", accuracy)\n"
      ],
      "id": "pFmXYGp76Y9r"
    },
    {
      "cell_type": "markdown",
      "metadata": {
        "id": "a7f55336"
      },
      "source": [
        "## Conclusion:"
      ],
      "id": "a7f55336"
    },
    {
      "cell_type": "markdown",
      "metadata": {
        "id": "93fa7be7"
      },
      "source": [
        "Precision measures the percentage of correct positive predictions among all positive predictions. Recall measures the percentage of correct positive predictions among all actual positive instances. F1-score is the harmonic mean of precision and recall."
      ],
      "id": "93fa7be7"
    },
    {
      "cell_type": "markdown",
      "metadata": {
        "id": "a9104b98"
      },
      "source": [
        "The evaluation of Four different classification models reveals that the RandomForestClassifier outperforms  LogisticRegression ,support vector machine and DecisionTreeClassifier. With an accuracy of 95.28%, it excels in addressing imbalanced class distribution. While the precision-recall trade-off affects the minority class, the RandomForestClassifier demonstrates commendable potential in identifying instances of the minority class. This makes it the recommended choice for achieving a balance between accuracy, precision, and recall in our classification task."
      ],
      "id": "a9104b98"
    }
  ],
  "metadata": {
    "colab": {
      "provenance": []
    },
    "kernelspec": {
      "display_name": "Python 3 (ipykernel)",
      "language": "python",
      "name": "python3"
    },
    "language_info": {
      "codemirror_mode": {
        "name": "ipython",
        "version": 3
      },
      "file_extension": ".py",
      "mimetype": "text/x-python",
      "name": "python",
      "nbconvert_exporter": "python",
      "pygments_lexer": "ipython3",
      "version": "3.9.12"
    }
  },
  "nbformat": 4,
  "nbformat_minor": 5
}